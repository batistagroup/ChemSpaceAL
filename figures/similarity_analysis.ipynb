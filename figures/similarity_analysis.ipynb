{
 "cells": [
  {
   "cell_type": "code",
   "execution_count": 31,
   "metadata": {},
   "outputs": [],
   "source": []
  },
  {
   "cell_type": "code",
   "execution_count": 32,
   "metadata": {},
   "outputs": [
    {
     "data": {
      "application/vnd.plotly.v1+json": {
       "config": {
        "plotlyServerURL": "https://plot.ly"
       },
       "data": [
        {
         "colorbar": {
          "len": 1,
          "title": {
           "text": "Tanimoto<br>Similarity"
          },
          "x": 0.44
         },
         "colorscale": [
          [
           0,
           "#000004"
          ],
          [
           0.1111111111111111,
           "#180f3d"
          ],
          [
           0.2222222222222222,
           "#440f76"
          ],
          [
           0.3333333333333333,
           "#721f81"
          ],
          [
           0.4444444444444444,
           "#9e2f7f"
          ],
          [
           0.5555555555555556,
           "#cd4071"
          ],
          [
           0.6666666666666666,
           "#f1605d"
          ],
          [
           0.7777777777777778,
           "#fd9668"
          ],
          [
           0.8888888888888888,
           "#feca8d"
          ],
          [
           1,
           "#fcfdbf"
          ]
         ],
         "showscale": true,
         "text": [
          [
           0.2940797056342822,
           0.2912012468167492,
           0.2915124358370242,
           0.2883100713236079,
           0.2998992469476022,
           0.3066566024008822
          ],
          [
           0.24994641409944202,
           0.26254132003710673,
           0.2678191533137594,
           0.28369948520985094,
           0.26484845017072633,
           0.26668033411201864
          ],
          [
           0.28877088575439025,
           0.2827382006798926,
           0.2962125086226798,
           0.28943505073197934,
           0.29492200894593823,
           0.3054767063523186
          ],
          [
           0.24632463715460573,
           0.2728300267952298,
           0.2582068900317927,
           0.26296789740415427,
           0.27060471348664394,
           0.25759862132531347
          ],
          [
           0.2996580839522687,
           0.2759395104655565,
           0.278400690935334,
           0.2616825303922183,
           0.29408601441397675,
           0.3007833406274668
          ],
          [
           0.29536817634131063,
           0.3184222380098989,
           0.3131356446515577,
           0.30567336636949316,
           0.30541201769809584,
           0.3068974576507668
          ]
         ],
         "texttemplate": "%{text:.3f}",
         "type": "heatmap",
         "x": [
          "imatinib",
          "nilotinib",
          "dasatinib",
          "bosutinib",
          "ponatinib",
          "bafetinib"
         ],
         "xaxis": "x",
         "y": [
          "AL5",
          "AL4",
          "AL3",
          "AL2",
          "AL1",
          "AL0"
         ],
         "yaxis": "y",
         "z": [
          [
           0.2940797056342822,
           0.2912012468167492,
           0.2915124358370242,
           0.2883100713236079,
           0.2998992469476022,
           0.3066566024008822
          ],
          [
           0.24994641409944202,
           0.26254132003710673,
           0.2678191533137594,
           0.28369948520985094,
           0.26484845017072633,
           0.26668033411201864
          ],
          [
           0.28877088575439025,
           0.2827382006798926,
           0.2962125086226798,
           0.28943505073197934,
           0.29492200894593823,
           0.3054767063523186
          ],
          [
           0.24632463715460573,
           0.2728300267952298,
           0.2582068900317927,
           0.26296789740415427,
           0.27060471348664394,
           0.25759862132531347
          ],
          [
           0.2996580839522687,
           0.2759395104655565,
           0.278400690935334,
           0.2616825303922183,
           0.29408601441397675,
           0.3007833406274668
          ],
          [
           0.29536817634131063,
           0.3184222380098989,
           0.3131356446515577,
           0.30567336636949316,
           0.30541201769809584,
           0.3068974576507668
          ]
         ],
         "zmax": 0.3184222380098989,
         "zmin": 0.24632463715460573
        },
        {
         "colorbar": {
          "len": 1,
          "title": {
           "text": "Tanimoto<br>Similarity"
          },
          "x": 1
         },
         "colorscale": [
          [
           0,
           "#000004"
          ],
          [
           0.1111111111111111,
           "#180f3d"
          ],
          [
           0.2222222222222222,
           "#440f76"
          ],
          [
           0.3333333333333333,
           "#721f81"
          ],
          [
           0.4444444444444444,
           "#9e2f7f"
          ],
          [
           0.5555555555555556,
           "#cd4071"
          ],
          [
           0.6666666666666666,
           "#f1605d"
          ],
          [
           0.7777777777777778,
           "#fd9668"
          ],
          [
           0.8888888888888888,
           "#feca8d"
          ],
          [
           1,
           "#fcfdbf"
          ]
         ],
         "showscale": true,
         "text": [
          [
           0.3853367433930094,
           0.40556660039761433,
           0.37524557956778,
           0.3800813008130081,
           0.3963782696177062,
           0.3977976600137646
          ],
          [
           0.32395382395382394,
           0.37107329842931935,
           0.37350993377483444,
           0.36616847826086957,
           0.34554973821989526,
           0.3492597577388964
          ],
          [
           0.328125,
           0.3715389568576948,
           0.38204456094364353,
           0.3768506056527591,
           0.35515230071289694,
           0.3672922252010724
          ],
          [
           0.34615384615384615,
           0.3986537023186238,
           0.3453136011275546,
           0.329971181556196,
           0.3633655994043187,
           0.34238310708898945
          ],
          [
           0.3612791702679343,
           0.34106412005457026,
           0.343232044198895,
           0.3417624521072797,
           0.3494397759103641,
           0.36009353078721745
          ],
          [
           0.3314191960623462,
           0.3583502366463827,
           0.3444043321299639,
           0.353491720662347,
           0.33720087019579403,
           0.33805970149253733
          ]
         ],
         "texttemplate": "%{text:.3f}",
         "type": "heatmap",
         "x": [
          "imatinib",
          "nilotinib",
          "dasatinib",
          "bosutinib",
          "ponatinib",
          "bafetinib"
         ],
         "xaxis": "x2",
         "y": [
          "AL5",
          "AL4",
          "AL3",
          "AL2",
          "AL1",
          "AL0"
         ],
         "yaxis": "y2",
         "z": [
          [
           0.3853367433930094,
           0.40556660039761433,
           0.37524557956778,
           0.3800813008130081,
           0.3963782696177062,
           0.3977976600137646
          ],
          [
           0.32395382395382394,
           0.37107329842931935,
           0.37350993377483444,
           0.36616847826086957,
           0.34554973821989526,
           0.3492597577388964
          ],
          [
           0.328125,
           0.3715389568576948,
           0.38204456094364353,
           0.3768506056527591,
           0.35515230071289694,
           0.3672922252010724
          ],
          [
           0.34615384615384615,
           0.3986537023186238,
           0.3453136011275546,
           0.329971181556196,
           0.3633655994043187,
           0.34238310708898945
          ],
          [
           0.3612791702679343,
           0.34106412005457026,
           0.343232044198895,
           0.3417624521072797,
           0.3494397759103641,
           0.36009353078721745
          ],
          [
           0.3314191960623462,
           0.3583502366463827,
           0.3444043321299639,
           0.353491720662347,
           0.33720087019579403,
           0.33805970149253733
          ]
         ],
         "zmax": 0.40556660039761433,
         "zmin": 0.32395382395382394
        }
       ],
       "layout": {
        "annotations": [
         {
          "font": {
           "color": "#333333",
           "family": "Helvetica",
           "size": 24
          },
          "showarrow": false,
          "text": "<b>Average Similarity</b>",
          "x": 0.22,
          "xanchor": "center",
          "xref": "paper",
          "y": 1,
          "yanchor": "bottom",
          "yref": "paper"
         },
         {
          "font": {
           "color": "#333333",
           "family": "Helvetica",
           "size": 24
          },
          "showarrow": false,
          "text": "<b>Maximum Similarity</b>",
          "x": 0.78,
          "xanchor": "center",
          "xref": "paper",
          "y": 1,
          "yanchor": "bottom",
          "yref": "paper"
         }
        ],
        "font": {
         "color": "#333333",
         "family": "Helvetica",
         "size": 12
        },
        "height": 350,
        "legend": {
         "font": {
          "color": "#333333",
          "family": "Helvetica",
          "size": 12
         }
        },
        "margin": {
         "b": 50,
         "l": 50,
         "r": 50,
         "t": 50
        },
        "paper_bgcolor": "white",
        "plot_bgcolor": "white",
        "showlegend": true,
        "template": {
         "data": {
          "bar": [
           {
            "error_x": {
             "color": "#2a3f5f"
            },
            "error_y": {
             "color": "#2a3f5f"
            },
            "marker": {
             "line": {
              "color": "#E5ECF6",
              "width": 0.5
             },
             "pattern": {
              "fillmode": "overlay",
              "size": 10,
              "solidity": 0.2
             }
            },
            "type": "bar"
           }
          ],
          "barpolar": [
           {
            "marker": {
             "line": {
              "color": "#E5ECF6",
              "width": 0.5
             },
             "pattern": {
              "fillmode": "overlay",
              "size": 10,
              "solidity": 0.2
             }
            },
            "type": "barpolar"
           }
          ],
          "carpet": [
           {
            "aaxis": {
             "endlinecolor": "#2a3f5f",
             "gridcolor": "white",
             "linecolor": "white",
             "minorgridcolor": "white",
             "startlinecolor": "#2a3f5f"
            },
            "baxis": {
             "endlinecolor": "#2a3f5f",
             "gridcolor": "white",
             "linecolor": "white",
             "minorgridcolor": "white",
             "startlinecolor": "#2a3f5f"
            },
            "type": "carpet"
           }
          ],
          "choropleth": [
           {
            "colorbar": {
             "outlinewidth": 0,
             "ticks": ""
            },
            "type": "choropleth"
           }
          ],
          "contour": [
           {
            "colorbar": {
             "outlinewidth": 0,
             "ticks": ""
            },
            "colorscale": [
             [
              0,
              "#0d0887"
             ],
             [
              0.1111111111111111,
              "#46039f"
             ],
             [
              0.2222222222222222,
              "#7201a8"
             ],
             [
              0.3333333333333333,
              "#9c179e"
             ],
             [
              0.4444444444444444,
              "#bd3786"
             ],
             [
              0.5555555555555556,
              "#d8576b"
             ],
             [
              0.6666666666666666,
              "#ed7953"
             ],
             [
              0.7777777777777778,
              "#fb9f3a"
             ],
             [
              0.8888888888888888,
              "#fdca26"
             ],
             [
              1,
              "#f0f921"
             ]
            ],
            "type": "contour"
           }
          ],
          "contourcarpet": [
           {
            "colorbar": {
             "outlinewidth": 0,
             "ticks": ""
            },
            "type": "contourcarpet"
           }
          ],
          "heatmap": [
           {
            "colorbar": {
             "outlinewidth": 0,
             "ticks": ""
            },
            "colorscale": [
             [
              0,
              "#0d0887"
             ],
             [
              0.1111111111111111,
              "#46039f"
             ],
             [
              0.2222222222222222,
              "#7201a8"
             ],
             [
              0.3333333333333333,
              "#9c179e"
             ],
             [
              0.4444444444444444,
              "#bd3786"
             ],
             [
              0.5555555555555556,
              "#d8576b"
             ],
             [
              0.6666666666666666,
              "#ed7953"
             ],
             [
              0.7777777777777778,
              "#fb9f3a"
             ],
             [
              0.8888888888888888,
              "#fdca26"
             ],
             [
              1,
              "#f0f921"
             ]
            ],
            "type": "heatmap"
           }
          ],
          "heatmapgl": [
           {
            "colorbar": {
             "outlinewidth": 0,
             "ticks": ""
            },
            "colorscale": [
             [
              0,
              "#0d0887"
             ],
             [
              0.1111111111111111,
              "#46039f"
             ],
             [
              0.2222222222222222,
              "#7201a8"
             ],
             [
              0.3333333333333333,
              "#9c179e"
             ],
             [
              0.4444444444444444,
              "#bd3786"
             ],
             [
              0.5555555555555556,
              "#d8576b"
             ],
             [
              0.6666666666666666,
              "#ed7953"
             ],
             [
              0.7777777777777778,
              "#fb9f3a"
             ],
             [
              0.8888888888888888,
              "#fdca26"
             ],
             [
              1,
              "#f0f921"
             ]
            ],
            "type": "heatmapgl"
           }
          ],
          "histogram": [
           {
            "marker": {
             "pattern": {
              "fillmode": "overlay",
              "size": 10,
              "solidity": 0.2
             }
            },
            "type": "histogram"
           }
          ],
          "histogram2d": [
           {
            "colorbar": {
             "outlinewidth": 0,
             "ticks": ""
            },
            "colorscale": [
             [
              0,
              "#0d0887"
             ],
             [
              0.1111111111111111,
              "#46039f"
             ],
             [
              0.2222222222222222,
              "#7201a8"
             ],
             [
              0.3333333333333333,
              "#9c179e"
             ],
             [
              0.4444444444444444,
              "#bd3786"
             ],
             [
              0.5555555555555556,
              "#d8576b"
             ],
             [
              0.6666666666666666,
              "#ed7953"
             ],
             [
              0.7777777777777778,
              "#fb9f3a"
             ],
             [
              0.8888888888888888,
              "#fdca26"
             ],
             [
              1,
              "#f0f921"
             ]
            ],
            "type": "histogram2d"
           }
          ],
          "histogram2dcontour": [
           {
            "colorbar": {
             "outlinewidth": 0,
             "ticks": ""
            },
            "colorscale": [
             [
              0,
              "#0d0887"
             ],
             [
              0.1111111111111111,
              "#46039f"
             ],
             [
              0.2222222222222222,
              "#7201a8"
             ],
             [
              0.3333333333333333,
              "#9c179e"
             ],
             [
              0.4444444444444444,
              "#bd3786"
             ],
             [
              0.5555555555555556,
              "#d8576b"
             ],
             [
              0.6666666666666666,
              "#ed7953"
             ],
             [
              0.7777777777777778,
              "#fb9f3a"
             ],
             [
              0.8888888888888888,
              "#fdca26"
             ],
             [
              1,
              "#f0f921"
             ]
            ],
            "type": "histogram2dcontour"
           }
          ],
          "mesh3d": [
           {
            "colorbar": {
             "outlinewidth": 0,
             "ticks": ""
            },
            "type": "mesh3d"
           }
          ],
          "parcoords": [
           {
            "line": {
             "colorbar": {
              "outlinewidth": 0,
              "ticks": ""
             }
            },
            "type": "parcoords"
           }
          ],
          "pie": [
           {
            "automargin": true,
            "type": "pie"
           }
          ],
          "scatter": [
           {
            "fillpattern": {
             "fillmode": "overlay",
             "size": 10,
             "solidity": 0.2
            },
            "type": "scatter"
           }
          ],
          "scatter3d": [
           {
            "line": {
             "colorbar": {
              "outlinewidth": 0,
              "ticks": ""
             }
            },
            "marker": {
             "colorbar": {
              "outlinewidth": 0,
              "ticks": ""
             }
            },
            "type": "scatter3d"
           }
          ],
          "scattercarpet": [
           {
            "marker": {
             "colorbar": {
              "outlinewidth": 0,
              "ticks": ""
             }
            },
            "type": "scattercarpet"
           }
          ],
          "scattergeo": [
           {
            "marker": {
             "colorbar": {
              "outlinewidth": 0,
              "ticks": ""
             }
            },
            "type": "scattergeo"
           }
          ],
          "scattergl": [
           {
            "marker": {
             "colorbar": {
              "outlinewidth": 0,
              "ticks": ""
             }
            },
            "type": "scattergl"
           }
          ],
          "scattermapbox": [
           {
            "marker": {
             "colorbar": {
              "outlinewidth": 0,
              "ticks": ""
             }
            },
            "type": "scattermapbox"
           }
          ],
          "scatterpolar": [
           {
            "marker": {
             "colorbar": {
              "outlinewidth": 0,
              "ticks": ""
             }
            },
            "type": "scatterpolar"
           }
          ],
          "scatterpolargl": [
           {
            "marker": {
             "colorbar": {
              "outlinewidth": 0,
              "ticks": ""
             }
            },
            "type": "scatterpolargl"
           }
          ],
          "scatterternary": [
           {
            "marker": {
             "colorbar": {
              "outlinewidth": 0,
              "ticks": ""
             }
            },
            "type": "scatterternary"
           }
          ],
          "surface": [
           {
            "colorbar": {
             "outlinewidth": 0,
             "ticks": ""
            },
            "colorscale": [
             [
              0,
              "#0d0887"
             ],
             [
              0.1111111111111111,
              "#46039f"
             ],
             [
              0.2222222222222222,
              "#7201a8"
             ],
             [
              0.3333333333333333,
              "#9c179e"
             ],
             [
              0.4444444444444444,
              "#bd3786"
             ],
             [
              0.5555555555555556,
              "#d8576b"
             ],
             [
              0.6666666666666666,
              "#ed7953"
             ],
             [
              0.7777777777777778,
              "#fb9f3a"
             ],
             [
              0.8888888888888888,
              "#fdca26"
             ],
             [
              1,
              "#f0f921"
             ]
            ],
            "type": "surface"
           }
          ],
          "table": [
           {
            "cells": {
             "fill": {
              "color": "#EBF0F8"
             },
             "line": {
              "color": "white"
             }
            },
            "header": {
             "fill": {
              "color": "#C8D4E3"
             },
             "line": {
              "color": "white"
             }
            },
            "type": "table"
           }
          ]
         },
         "layout": {
          "annotationdefaults": {
           "arrowcolor": "#2a3f5f",
           "arrowhead": 0,
           "arrowwidth": 1
          },
          "autotypenumbers": "strict",
          "coloraxis": {
           "colorbar": {
            "outlinewidth": 0,
            "ticks": ""
           }
          },
          "colorscale": {
           "diverging": [
            [
             0,
             "#8e0152"
            ],
            [
             0.1,
             "#c51b7d"
            ],
            [
             0.2,
             "#de77ae"
            ],
            [
             0.3,
             "#f1b6da"
            ],
            [
             0.4,
             "#fde0ef"
            ],
            [
             0.5,
             "#f7f7f7"
            ],
            [
             0.6,
             "#e6f5d0"
            ],
            [
             0.7,
             "#b8e186"
            ],
            [
             0.8,
             "#7fbc41"
            ],
            [
             0.9,
             "#4d9221"
            ],
            [
             1,
             "#276419"
            ]
           ],
           "sequential": [
            [
             0,
             "#0d0887"
            ],
            [
             0.1111111111111111,
             "#46039f"
            ],
            [
             0.2222222222222222,
             "#7201a8"
            ],
            [
             0.3333333333333333,
             "#9c179e"
            ],
            [
             0.4444444444444444,
             "#bd3786"
            ],
            [
             0.5555555555555556,
             "#d8576b"
            ],
            [
             0.6666666666666666,
             "#ed7953"
            ],
            [
             0.7777777777777778,
             "#fb9f3a"
            ],
            [
             0.8888888888888888,
             "#fdca26"
            ],
            [
             1,
             "#f0f921"
            ]
           ],
           "sequentialminus": [
            [
             0,
             "#0d0887"
            ],
            [
             0.1111111111111111,
             "#46039f"
            ],
            [
             0.2222222222222222,
             "#7201a8"
            ],
            [
             0.3333333333333333,
             "#9c179e"
            ],
            [
             0.4444444444444444,
             "#bd3786"
            ],
            [
             0.5555555555555556,
             "#d8576b"
            ],
            [
             0.6666666666666666,
             "#ed7953"
            ],
            [
             0.7777777777777778,
             "#fb9f3a"
            ],
            [
             0.8888888888888888,
             "#fdca26"
            ],
            [
             1,
             "#f0f921"
            ]
           ]
          },
          "colorway": [
           "#636efa",
           "#EF553B",
           "#00cc96",
           "#ab63fa",
           "#FFA15A",
           "#19d3f3",
           "#FF6692",
           "#B6E880",
           "#FF97FF",
           "#FECB52"
          ],
          "font": {
           "color": "#2a3f5f"
          },
          "geo": {
           "bgcolor": "white",
           "lakecolor": "white",
           "landcolor": "#E5ECF6",
           "showlakes": true,
           "showland": true,
           "subunitcolor": "white"
          },
          "hoverlabel": {
           "align": "left"
          },
          "hovermode": "closest",
          "mapbox": {
           "style": "light"
          },
          "paper_bgcolor": "white",
          "plot_bgcolor": "#E5ECF6",
          "polar": {
           "angularaxis": {
            "gridcolor": "white",
            "linecolor": "white",
            "ticks": ""
           },
           "bgcolor": "#E5ECF6",
           "radialaxis": {
            "gridcolor": "white",
            "linecolor": "white",
            "ticks": ""
           }
          },
          "scene": {
           "xaxis": {
            "backgroundcolor": "#E5ECF6",
            "gridcolor": "white",
            "gridwidth": 2,
            "linecolor": "white",
            "showbackground": true,
            "ticks": "",
            "zerolinecolor": "white"
           },
           "yaxis": {
            "backgroundcolor": "#E5ECF6",
            "gridcolor": "white",
            "gridwidth": 2,
            "linecolor": "white",
            "showbackground": true,
            "ticks": "",
            "zerolinecolor": "white"
           },
           "zaxis": {
            "backgroundcolor": "#E5ECF6",
            "gridcolor": "white",
            "gridwidth": 2,
            "linecolor": "white",
            "showbackground": true,
            "ticks": "",
            "zerolinecolor": "white"
           }
          },
          "shapedefaults": {
           "line": {
            "color": "#2a3f5f"
           }
          },
          "ternary": {
           "aaxis": {
            "gridcolor": "white",
            "linecolor": "white",
            "ticks": ""
           },
           "baxis": {
            "gridcolor": "white",
            "linecolor": "white",
            "ticks": ""
           },
           "bgcolor": "#E5ECF6",
           "caxis": {
            "gridcolor": "white",
            "linecolor": "white",
            "ticks": ""
           }
          },
          "title": {
           "x": 0.05
          },
          "xaxis": {
           "automargin": true,
           "gridcolor": "white",
           "linecolor": "white",
           "ticks": "",
           "title": {
            "standoff": 15
           },
           "zerolinecolor": "white",
           "zerolinewidth": 2
          },
          "yaxis": {
           "automargin": true,
           "gridcolor": "white",
           "linecolor": "white",
           "ticks": "",
           "title": {
            "standoff": 15
           },
           "zerolinecolor": "white",
           "zerolinewidth": 2
          }
         }
        },
        "title": {
         "font": {
          "color": "#333333",
          "family": "Helvetica",
          "size": 20
         },
         "text": "",
         "x": 0.5,
         "xanchor": "center",
         "y": 0.95,
         "yanchor": "top"
        },
        "width": 1000,
        "xaxis": {
         "anchor": "y",
         "domain": [
          0,
          0.44
         ],
         "gridcolor": "#e2e2e2",
         "gridwidth": 1,
         "linecolor": "#000000",
         "linewidth": 1,
         "mirror": false,
         "showgrid": false,
         "showticklabels": true,
         "side": "bottom",
         "tickfont": {
          "color": "#333333",
          "family": "Helvetica",
          "size": 12
         },
         "ticklen": 5,
         "ticks": "outside",
         "tickwidth": 1,
         "title": {
          "font": {
           "color": "#333333",
           "family": "Helvetica",
           "size": 14
          },
          "text": ""
         },
         "zeroline": false
        },
        "xaxis2": {
         "anchor": "y2",
         "domain": [
          0.56,
          1
         ],
         "gridcolor": "#e2e2e2",
         "gridwidth": 1,
         "linecolor": "#000000",
         "linewidth": 1,
         "mirror": false,
         "showgrid": false,
         "showticklabels": true,
         "side": "bottom",
         "tickfont": {
          "color": "#333333",
          "family": "Helvetica",
          "size": 12
         },
         "ticklen": 5,
         "ticks": "outside",
         "tickwidth": 1,
         "title": {
          "font": {
           "color": "#333333",
           "family": "Helvetica",
           "size": 14
          },
          "text": ""
         },
         "zeroline": false
        },
        "yaxis": {
         "anchor": "x",
         "domain": [
          0,
          1
         ],
         "gridcolor": "#e2e2e2",
         "gridwidth": 1,
         "linecolor": "#000000",
         "linewidth": 1,
         "mirror": false,
         "showgrid": false,
         "showticklabels": true,
         "tickfont": {
          "color": "#333333",
          "family": "Helvetica",
          "size": 12
         },
         "ticklen": 5,
         "ticks": "outside",
         "tickwidth": 1,
         "title": {
          "font": {
           "color": "#333333",
           "family": "Helvetica",
           "size": 14
          },
          "standoff": 0,
          "text": ""
         },
         "zeroline": false
        },
        "yaxis2": {
         "anchor": "x2",
         "domain": [
          0,
          1
         ],
         "gridcolor": "#e2e2e2",
         "gridwidth": 1,
         "linecolor": "#000000",
         "linewidth": 1,
         "mirror": false,
         "showgrid": false,
         "showticklabels": true,
         "tickfont": {
          "color": "#333333",
          "family": "Helvetica",
          "size": 12
         },
         "ticklen": 5,
         "ticks": "outside",
         "tickwidth": 1,
         "title": {
          "font": {
           "color": "#333333",
           "family": "Helvetica",
           "size": 14
          },
          "standoff": 0,
          "text": ""
         },
         "zeroline": false
        }
       }
      }
     },
     "metadata": {},
     "output_type": "display_data"
    }
   ],
   "source": []
  },
  {
   "cell_type": "code",
   "execution_count": null,
   "metadata": {},
   "outputs": [],
   "source": []
  }
 ],
 "metadata": {
  "kernelspec": {
   "display_name": "Python 3",
   "language": "python",
   "name": "python3"
  },
  "language_info": {
   "codemirror_mode": {
    "name": "ipython",
    "version": 3
   },
   "file_extension": ".py",
   "mimetype": "text/x-python",
   "name": "python",
   "nbconvert_exporter": "python",
   "pygments_lexer": "ipython3",
   "version": "3.11.4"
  }
 },
 "nbformat": 4,
 "nbformat_minor": 2
}
