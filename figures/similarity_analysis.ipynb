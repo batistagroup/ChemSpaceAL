{
 "cells": [
  {
   "cell_type": "code",
   "execution_count": 1,
   "metadata": {},
   "outputs": [
    {
     "data": {
      "application/vnd.plotly.v1+json": {
       "config": {
        "plotlyServerURL": "https://plot.ly"
       },
       "data": [
        {
         "colorscale": [
          [
           0,
           "#000004"
          ],
          [
           0.1111111111111111,
           "#180f3d"
          ],
          [
           0.2222222222222222,
           "#440f76"
          ],
          [
           0.3333333333333333,
           "#721f81"
          ],
          [
           0.4444444444444444,
           "#9e2f7f"
          ],
          [
           0.5555555555555556,
           "#cd4071"
          ],
          [
           0.6666666666666666,
           "#f1605d"
          ],
          [
           0.7777777777777778,
           "#fd9668"
          ],
          [
           0.8888888888888888,
           "#feca8d"
          ],
          [
           1,
           "#fcfdbf"
          ]
         ],
         "text": [
          [
           "1.0",
           "0.6",
           "0.6",
           "0.6",
           "0.7",
           "0.8"
          ],
          [
           "",
           "1.0",
           "0.6",
           "0.4",
           "0.6",
           "0.7"
          ],
          [
           "",
           "",
           "1.0",
           "0.6",
           "0.6",
           "0.7"
          ],
          [
           "",
           "",
           "",
           "1.0",
           "0.6",
           "0.6"
          ],
          [
           "",
           "",
           "",
           "",
           "1.0",
           "0.8"
          ],
          [
           "",
           "",
           "",
           "",
           "",
           "1.0"
          ]
         ],
         "texttemplate": "%{text:.1f}",
         "type": "heatmap",
         "x": [
          "imatinib",
          "nilotinib",
          "dasatinib",
          "bosutinib",
          "ponatinib",
          "bafetinib"
         ],
         "xaxis": "x",
         "y": [
          "imatinib",
          "nilotinib",
          "dasatinib",
          "bosutinib",
          "ponatinib",
          "bafetinib"
         ],
         "yaxis": "y",
         "z": [
          [
           1,
           0.6491228070175439,
           0.6388888888888888,
           0.5774647887323944,
           0.734375,
           0.8333333333333334
          ],
          [
           null,
           1,
           0.5714285714285714,
           0.40540540540540543,
           0.6349206349206349,
           0.7288135593220338
          ],
          [
           null,
           null,
           1,
           0.5802469135802469,
           0.6282051282051282,
           0.6578947368421053
          ],
          [
           null,
           null,
           null,
           1,
           0.5921052631578947,
           0.5584415584415584
          ],
          [
           null,
           null,
           null,
           null,
           1,
           0.7761194029850746
          ],
          [
           null,
           null,
           null,
           null,
           null,
           1
          ]
         ],
         "zmax": 1,
         "zmin": 0
        },
        {
         "colorscale": [
          [
           0,
           "#000004"
          ],
          [
           0.1111111111111111,
           "#180f3d"
          ],
          [
           0.2222222222222222,
           "#440f76"
          ],
          [
           0.3333333333333333,
           "#721f81"
          ],
          [
           0.4444444444444444,
           "#9e2f7f"
          ],
          [
           0.5555555555555556,
           "#cd4071"
          ],
          [
           0.6666666666666666,
           "#f1605d"
          ],
          [
           0.7777777777777778,
           "#fd9668"
          ],
          [
           0.8888888888888888,
           "#feca8d"
          ],
          [
           1,
           "#fcfdbf"
          ]
         ],
         "text": [
          [
           "1.0",
           "0.8",
           "0.8",
           "0.7",
           "0.8",
           "0.9"
          ],
          [
           "",
           "1.0",
           "0.7",
           "0.6",
           "0.8",
           "0.8"
          ],
          [
           "",
           "",
           "1.0",
           "0.7",
           "0.8",
           "0.8"
          ],
          [
           "",
           "",
           "",
           "1.0",
           "0.7",
           "0.7"
          ],
          [
           "",
           "",
           "",
           "",
           "1.0",
           "0.9"
          ],
          [
           "",
           "",
           "",
           "",
           "",
           "1.0"
          ]
         ],
         "texttemplate": "%{text:.1f}",
         "type": "heatmap",
         "x": [
          "imatinib",
          "nilotinib",
          "dasatinib",
          "bosutinib",
          "ponatinib",
          "bafetinib"
         ],
         "xaxis": "x2",
         "y": [
          "imatinib",
          "nilotinib",
          "dasatinib",
          "bosutinib",
          "ponatinib",
          "bafetinib"
         ],
         "yaxis": "y2",
         "z": [
          [
           1,
           0.7872340425531915,
           0.7796610169491526,
           0.7321428571428571,
           0.8468468468468469,
           0.9090909090909091
          ],
          [
           null,
           1,
           0.7272727272727273,
           0.5769230769230769,
           0.7766990291262136,
           0.8431372549019608
          ],
          [
           null,
           null,
           1,
           0.734375,
           0.7716535433070866,
           0.7936507936507936
          ],
          [
           null,
           null,
           null,
           1,
           0.743801652892562,
           0.7166666666666667
          ],
          [
           null,
           null,
           null,
           null,
           1,
           0.8739495798319328
          ],
          [
           null,
           null,
           null,
           null,
           null,
           1
          ]
         ],
         "zmax": 1,
         "zmin": 0
        },
        {
         "colorscale": [
          [
           0,
           "#000004"
          ],
          [
           0.1111111111111111,
           "#180f3d"
          ],
          [
           0.2222222222222222,
           "#440f76"
          ],
          [
           0.3333333333333333,
           "#721f81"
          ],
          [
           0.4444444444444444,
           "#9e2f7f"
          ],
          [
           0.5555555555555556,
           "#cd4071"
          ],
          [
           0.6666666666666666,
           "#f1605d"
          ],
          [
           0.7777777777777778,
           "#fd9668"
          ],
          [
           0.8888888888888888,
           "#feca8d"
          ],
          [
           1,
           "#fcfdbf"
          ]
         ],
         "text": [
          [
           "1.0",
           "0.9",
           "0.9",
           "0.8",
           "0.9",
           "1.0"
          ],
          [
           "",
           "1.0",
           "0.9",
           "0.7",
           "0.9",
           "1.0"
          ],
          [
           "",
           "",
           "1.0",
           "0.8",
           "0.8",
           "0.8"
          ],
          [
           "",
           "",
           "",
           "1.0",
           "0.8",
           "0.7"
          ],
          [
           "",
           "",
           "",
           "",
           "1.0",
           "0.9"
          ],
          [
           "",
           "",
           "",
           "",
           "",
           "1.0"
          ]
         ],
         "texttemplate": "%{text:.1f}",
         "type": "heatmap",
         "x": [
          "imatinib",
          "nilotinib",
          "dasatinib",
          "bosutinib",
          "ponatinib",
          "bafetinib"
         ],
         "xaxis": "x3",
         "y": [
          "imatinib",
          "nilotinib",
          "dasatinib",
          "bosutinib",
          "ponatinib",
          "bafetinib"
         ],
         "yaxis": "y3",
         "z": [
          [
           1,
           0.8604651162790697,
           0.9019607843137255,
           0.803921568627451,
           0.9215686274509803,
           0.9803921568627451
          ],
          [
           null,
           1,
           0.9302325581395349,
           0.6976744186046512,
           0.9302325581395349,
           1
          ],
          [
           null,
           null,
           1,
           0.7704918032786885,
           0.8166666666666667,
           0.847457627118644
          ],
          [
           null,
           null,
           null,
           1,
           0.75,
           0.7288135593220338
          ],
          [
           null,
           null,
           null,
           null,
           1,
           0.8813559322033898
          ],
          [
           null,
           null,
           null,
           null,
           null,
           1
          ]
         ],
         "zmax": 1,
         "zmin": 0
        },
        {
         "colorscale": [
          [
           0,
           "#000004"
          ],
          [
           0.1111111111111111,
           "#180f3d"
          ],
          [
           0.2222222222222222,
           "#440f76"
          ],
          [
           0.3333333333333333,
           "#721f81"
          ],
          [
           0.4444444444444444,
           "#9e2f7f"
          ],
          [
           0.5555555555555556,
           "#cd4071"
          ],
          [
           0.6666666666666666,
           "#f1605d"
          ],
          [
           0.7777777777777778,
           "#fd9668"
          ],
          [
           0.8888888888888888,
           "#feca8d"
          ],
          [
           1,
           "#fcfdbf"
          ]
         ],
         "text": [
          [
           "0.3",
           "0.2",
           "0.3",
           "0.2",
           "0.3",
           "0.3"
          ],
          [
           "",
           "0.3",
           "0.2",
           "0.2",
           "0.2",
           "0.3"
          ],
          [
           "",
           "",
           "0.4",
           "0.3",
           "0.3",
           "0.3"
          ],
          [
           "",
           "",
           "",
           "0.4",
           "0.3",
           "0.3"
          ],
          [
           "",
           "",
           "",
           "",
           "0.4",
           "0.3"
          ],
          [
           "",
           "",
           "",
           "",
           "",
           "0.4"
          ]
         ],
         "texttemplate": "%{text:.1f}",
         "type": "heatmap",
         "x": [
          "imatinib",
          "nilotinib",
          "dasatinib",
          "bosutinib",
          "ponatinib",
          "bafetinib"
         ],
         "xaxis": "x4",
         "y": [
          "imatinib",
          "nilotinib",
          "dasatinib",
          "bosutinib",
          "ponatinib",
          "bafetinib"
         ],
         "yaxis": "y4",
         "z": [
          [
           0.30538922155688625,
           0.2215568862275449,
           0.2754491017964072,
           0.24550898203592814,
           0.281437125748503,
           0.2994011976047904
          ],
          [
           null,
           0.25748502994011974,
           0.23952095808383234,
           0.17964071856287425,
           0.23952095808383234,
           0.25748502994011974
          ],
          [
           null,
           null,
           0.40119760479041916,
           0.281437125748503,
           0.2934131736526946,
           0.2994011976047904
          ],
          [
           null,
           null,
           null,
           0.3652694610778443,
           0.2694610778443114,
           0.25748502994011974
          ],
          [
           null,
           null,
           null,
           null,
           0.3592814371257485,
           0.31137724550898205
          ],
          [
           null,
           null,
           null,
           null,
           null,
           0.3532934131736527
          ]
         ],
         "zmax": 1,
         "zmin": 0
        },
        {
         "colorscale": [
          [
           0,
           "#000004"
          ],
          [
           0.1111111111111111,
           "#180f3d"
          ],
          [
           0.2222222222222222,
           "#440f76"
          ],
          [
           0.3333333333333333,
           "#721f81"
          ],
          [
           0.4444444444444444,
           "#9e2f7f"
          ],
          [
           0.5555555555555556,
           "#cd4071"
          ],
          [
           0.6666666666666666,
           "#f1605d"
          ],
          [
           0.7777777777777778,
           "#fd9668"
          ],
          [
           0.8888888888888888,
           "#feca8d"
          ],
          [
           1,
           "#fcfdbf"
          ]
         ],
         "text": [
          [
           "1.0",
           "0.5",
           "0.5",
           "0.4",
           "0.6",
           "0.7"
          ],
          [
           "",
           "1.0",
           "0.4",
           "0.3",
           "0.5",
           "0.6"
          ],
          [
           "",
           "",
           "1.0",
           "0.4",
           "0.5",
           "0.5"
          ],
          [
           "",
           "",
           "",
           "1.0",
           "0.4",
           "0.4"
          ],
          [
           "",
           "",
           "",
           "",
           "1.0",
           "0.6"
          ],
          [
           "",
           "",
           "",
           "",
           "",
           "1.0"
          ]
         ],
         "texttemplate": "%{text:.1f}",
         "type": "heatmap",
         "x": [
          "imatinib",
          "nilotinib",
          "dasatinib",
          "bosutinib",
          "ponatinib",
          "bafetinib"
         ],
         "xaxis": "x5",
         "y": [
          "imatinib",
          "nilotinib",
          "dasatinib",
          "bosutinib",
          "ponatinib",
          "bafetinib"
         ],
         "yaxis": "y5",
         "z": [
          [
           1,
           0.4805194805194805,
           0.46938775510204084,
           0.40594059405940597,
           0.5802469135802469,
           0.7142857142857143
          ],
          [
           null,
           1,
           0.4,
           0.2542372881355932,
           0.46511627906976744,
           0.5733333333333334
          ],
          [
           null,
           null,
           1,
           0.40869565217391307,
           0.45794392523364486,
           0.49019607843137253
          ],
          [
           null,
           null,
           null,
           1,
           0.4205607476635514,
           0.38738738738738737
          ],
          [
           null,
           null,
           null,
           null,
           1,
           0.6341463414634146
          ],
          [
           null,
           null,
           null,
           null,
           null,
           1
          ]
         ],
         "zmax": 1,
         "zmin": 0
        },
        {
         "colorscale": [
          [
           0,
           "#000004"
          ],
          [
           0.1111111111111111,
           "#180f3d"
          ],
          [
           0.2222222222222222,
           "#440f76"
          ],
          [
           0.3333333333333333,
           "#721f81"
          ],
          [
           0.4444444444444444,
           "#9e2f7f"
          ],
          [
           0.5555555555555556,
           "#cd4071"
          ],
          [
           0.6666666666666666,
           "#f1605d"
          ],
          [
           0.7777777777777778,
           "#fd9668"
          ],
          [
           0.8888888888888888,
           "#feca8d"
          ],
          [
           1,
           "#fcfdbf"
          ]
         ],
         "text": [
          [
           "1.0",
           "0.8",
           "0.8",
           "0.7",
           "0.8",
           "0.9"
          ],
          [
           "",
           "1.0",
           "0.7",
           "0.6",
           "0.8",
           "0.9"
          ],
          [
           "",
           "",
           "1.0",
           "0.7",
           "0.8",
           "0.8"
          ],
          [
           "",
           "",
           "",
           "1.0",
           "0.7",
           "0.7"
          ],
          [
           "",
           "",
           "",
           "",
           "1.0",
           "0.9"
          ],
          [
           "",
           "",
           "",
           "",
           "",
           "1.0"
          ]
         ],
         "texttemplate": "%{text:.1f}",
         "type": "heatmap",
         "x": [
          "imatinib",
          "nilotinib",
          "dasatinib",
          "bosutinib",
          "ponatinib",
          "bafetinib"
         ],
         "xaxis": "x6",
         "y": [
          "imatinib",
          "nilotinib",
          "dasatinib",
          "bosutinib",
          "ponatinib",
          "bafetinib"
         ],
         "yaxis": "y6",
         "z": [
          [
           1,
           0.7901006302541168,
           0.7869286231209508,
           0.7350787212635911,
           0.84964429312307,
           0.9115046960387156
          ],
          [
           null,
           1,
           0.7452266241066098,
           0.5857632341884198,
           0.7874992309581578,
           0.8537057803025782
          ],
          [
           null,
           null,
           1,
           0.7351831404902928,
           0.772828364898727,
           0.7952553457939867
          ],
          [
           null,
           null,
           null,
           1,
           0.7438270555206971,
           0.7167662244453878
          ],
          [
           null,
           null,
           null,
           null,
           1,
           0.8739804390886586
          ],
          [
           null,
           null,
           null,
           null,
           null,
           1
          ]
         ],
         "zmax": 1,
         "zmin": 0
        }
       ],
       "layout": {
        "annotations": [
         {
          "font": {
           "color": "#333333",
           "family": "Helvetica",
           "size": 24
          },
          "showarrow": false,
          "text": "<b>Tanimoto</b>",
          "x": 0.16333333333333333,
          "xanchor": "center",
          "xref": "paper",
          "y": 1,
          "yanchor": "bottom",
          "yref": "paper"
         },
         {
          "font": {
           "color": "#333333",
           "family": "Helvetica",
           "size": 24
          },
          "showarrow": false,
          "text": "<b>Dice</b>",
          "x": 0.5,
          "xanchor": "center",
          "xref": "paper",
          "y": 1,
          "yanchor": "bottom",
          "yref": "paper"
         },
         {
          "font": {
           "color": "#333333",
           "family": "Helvetica",
           "size": 24
          },
          "showarrow": false,
          "text": "<b>Asymmetric</b>",
          "x": 0.8366666666666667,
          "xanchor": "center",
          "xref": "paper",
          "y": 1,
          "yanchor": "bottom",
          "yref": "paper"
         },
         {
          "font": {
           "color": "#333333",
           "family": "Helvetica",
           "size": 24
          },
          "showarrow": false,
          "text": "<b>Russel</b>",
          "x": 0.16333333333333333,
          "xanchor": "center",
          "xref": "paper",
          "y": 0.45,
          "yanchor": "bottom",
          "yref": "paper"
         },
         {
          "font": {
           "color": "#333333",
           "family": "Helvetica",
           "size": 24
          },
          "showarrow": false,
          "text": "<b>Sokal</b>",
          "x": 0.5,
          "xanchor": "center",
          "xref": "paper",
          "y": 0.45,
          "yanchor": "bottom",
          "yref": "paper"
         },
         {
          "font": {
           "color": "#333333",
           "family": "Helvetica",
           "size": 24
          },
          "showarrow": false,
          "text": "<b>Cosine</b>",
          "x": 0.8366666666666667,
          "xanchor": "center",
          "xref": "paper",
          "y": 0.45,
          "yanchor": "bottom",
          "yref": "paper"
         }
        ],
        "font": {
         "color": "#333333",
         "family": "Helvetica",
         "size": 12
        },
        "height": 500,
        "legend": {
         "font": {
          "color": "#333333",
          "family": "Helvetica",
          "size": 12
         }
        },
        "margin": {
         "b": 50,
         "l": 50,
         "r": 50,
         "t": 50
        },
        "paper_bgcolor": "white",
        "plot_bgcolor": "white",
        "showlegend": true,
        "template": {
         "data": {
          "bar": [
           {
            "error_x": {
             "color": "#2a3f5f"
            },
            "error_y": {
             "color": "#2a3f5f"
            },
            "marker": {
             "line": {
              "color": "#E5ECF6",
              "width": 0.5
             },
             "pattern": {
              "fillmode": "overlay",
              "size": 10,
              "solidity": 0.2
             }
            },
            "type": "bar"
           }
          ],
          "barpolar": [
           {
            "marker": {
             "line": {
              "color": "#E5ECF6",
              "width": 0.5
             },
             "pattern": {
              "fillmode": "overlay",
              "size": 10,
              "solidity": 0.2
             }
            },
            "type": "barpolar"
           }
          ],
          "carpet": [
           {
            "aaxis": {
             "endlinecolor": "#2a3f5f",
             "gridcolor": "white",
             "linecolor": "white",
             "minorgridcolor": "white",
             "startlinecolor": "#2a3f5f"
            },
            "baxis": {
             "endlinecolor": "#2a3f5f",
             "gridcolor": "white",
             "linecolor": "white",
             "minorgridcolor": "white",
             "startlinecolor": "#2a3f5f"
            },
            "type": "carpet"
           }
          ],
          "choropleth": [
           {
            "colorbar": {
             "outlinewidth": 0,
             "ticks": ""
            },
            "type": "choropleth"
           }
          ],
          "contour": [
           {
            "colorbar": {
             "outlinewidth": 0,
             "ticks": ""
            },
            "colorscale": [
             [
              0,
              "#0d0887"
             ],
             [
              0.1111111111111111,
              "#46039f"
             ],
             [
              0.2222222222222222,
              "#7201a8"
             ],
             [
              0.3333333333333333,
              "#9c179e"
             ],
             [
              0.4444444444444444,
              "#bd3786"
             ],
             [
              0.5555555555555556,
              "#d8576b"
             ],
             [
              0.6666666666666666,
              "#ed7953"
             ],
             [
              0.7777777777777778,
              "#fb9f3a"
             ],
             [
              0.8888888888888888,
              "#fdca26"
             ],
             [
              1,
              "#f0f921"
             ]
            ],
            "type": "contour"
           }
          ],
          "contourcarpet": [
           {
            "colorbar": {
             "outlinewidth": 0,
             "ticks": ""
            },
            "type": "contourcarpet"
           }
          ],
          "heatmap": [
           {
            "colorbar": {
             "outlinewidth": 0,
             "ticks": ""
            },
            "colorscale": [
             [
              0,
              "#0d0887"
             ],
             [
              0.1111111111111111,
              "#46039f"
             ],
             [
              0.2222222222222222,
              "#7201a8"
             ],
             [
              0.3333333333333333,
              "#9c179e"
             ],
             [
              0.4444444444444444,
              "#bd3786"
             ],
             [
              0.5555555555555556,
              "#d8576b"
             ],
             [
              0.6666666666666666,
              "#ed7953"
             ],
             [
              0.7777777777777778,
              "#fb9f3a"
             ],
             [
              0.8888888888888888,
              "#fdca26"
             ],
             [
              1,
              "#f0f921"
             ]
            ],
            "type": "heatmap"
           }
          ],
          "heatmapgl": [
           {
            "colorbar": {
             "outlinewidth": 0,
             "ticks": ""
            },
            "colorscale": [
             [
              0,
              "#0d0887"
             ],
             [
              0.1111111111111111,
              "#46039f"
             ],
             [
              0.2222222222222222,
              "#7201a8"
             ],
             [
              0.3333333333333333,
              "#9c179e"
             ],
             [
              0.4444444444444444,
              "#bd3786"
             ],
             [
              0.5555555555555556,
              "#d8576b"
             ],
             [
              0.6666666666666666,
              "#ed7953"
             ],
             [
              0.7777777777777778,
              "#fb9f3a"
             ],
             [
              0.8888888888888888,
              "#fdca26"
             ],
             [
              1,
              "#f0f921"
             ]
            ],
            "type": "heatmapgl"
           }
          ],
          "histogram": [
           {
            "marker": {
             "pattern": {
              "fillmode": "overlay",
              "size": 10,
              "solidity": 0.2
             }
            },
            "type": "histogram"
           }
          ],
          "histogram2d": [
           {
            "colorbar": {
             "outlinewidth": 0,
             "ticks": ""
            },
            "colorscale": [
             [
              0,
              "#0d0887"
             ],
             [
              0.1111111111111111,
              "#46039f"
             ],
             [
              0.2222222222222222,
              "#7201a8"
             ],
             [
              0.3333333333333333,
              "#9c179e"
             ],
             [
              0.4444444444444444,
              "#bd3786"
             ],
             [
              0.5555555555555556,
              "#d8576b"
             ],
             [
              0.6666666666666666,
              "#ed7953"
             ],
             [
              0.7777777777777778,
              "#fb9f3a"
             ],
             [
              0.8888888888888888,
              "#fdca26"
             ],
             [
              1,
              "#f0f921"
             ]
            ],
            "type": "histogram2d"
           }
          ],
          "histogram2dcontour": [
           {
            "colorbar": {
             "outlinewidth": 0,
             "ticks": ""
            },
            "colorscale": [
             [
              0,
              "#0d0887"
             ],
             [
              0.1111111111111111,
              "#46039f"
             ],
             [
              0.2222222222222222,
              "#7201a8"
             ],
             [
              0.3333333333333333,
              "#9c179e"
             ],
             [
              0.4444444444444444,
              "#bd3786"
             ],
             [
              0.5555555555555556,
              "#d8576b"
             ],
             [
              0.6666666666666666,
              "#ed7953"
             ],
             [
              0.7777777777777778,
              "#fb9f3a"
             ],
             [
              0.8888888888888888,
              "#fdca26"
             ],
             [
              1,
              "#f0f921"
             ]
            ],
            "type": "histogram2dcontour"
           }
          ],
          "mesh3d": [
           {
            "colorbar": {
             "outlinewidth": 0,
             "ticks": ""
            },
            "type": "mesh3d"
           }
          ],
          "parcoords": [
           {
            "line": {
             "colorbar": {
              "outlinewidth": 0,
              "ticks": ""
             }
            },
            "type": "parcoords"
           }
          ],
          "pie": [
           {
            "automargin": true,
            "type": "pie"
           }
          ],
          "scatter": [
           {
            "fillpattern": {
             "fillmode": "overlay",
             "size": 10,
             "solidity": 0.2
            },
            "type": "scatter"
           }
          ],
          "scatter3d": [
           {
            "line": {
             "colorbar": {
              "outlinewidth": 0,
              "ticks": ""
             }
            },
            "marker": {
             "colorbar": {
              "outlinewidth": 0,
              "ticks": ""
             }
            },
            "type": "scatter3d"
           }
          ],
          "scattercarpet": [
           {
            "marker": {
             "colorbar": {
              "outlinewidth": 0,
              "ticks": ""
             }
            },
            "type": "scattercarpet"
           }
          ],
          "scattergeo": [
           {
            "marker": {
             "colorbar": {
              "outlinewidth": 0,
              "ticks": ""
             }
            },
            "type": "scattergeo"
           }
          ],
          "scattergl": [
           {
            "marker": {
             "colorbar": {
              "outlinewidth": 0,
              "ticks": ""
             }
            },
            "type": "scattergl"
           }
          ],
          "scattermapbox": [
           {
            "marker": {
             "colorbar": {
              "outlinewidth": 0,
              "ticks": ""
             }
            },
            "type": "scattermapbox"
           }
          ],
          "scatterpolar": [
           {
            "marker": {
             "colorbar": {
              "outlinewidth": 0,
              "ticks": ""
             }
            },
            "type": "scatterpolar"
           }
          ],
          "scatterpolargl": [
           {
            "marker": {
             "colorbar": {
              "outlinewidth": 0,
              "ticks": ""
             }
            },
            "type": "scatterpolargl"
           }
          ],
          "scatterternary": [
           {
            "marker": {
             "colorbar": {
              "outlinewidth": 0,
              "ticks": ""
             }
            },
            "type": "scatterternary"
           }
          ],
          "surface": [
           {
            "colorbar": {
             "outlinewidth": 0,
             "ticks": ""
            },
            "colorscale": [
             [
              0,
              "#0d0887"
             ],
             [
              0.1111111111111111,
              "#46039f"
             ],
             [
              0.2222222222222222,
              "#7201a8"
             ],
             [
              0.3333333333333333,
              "#9c179e"
             ],
             [
              0.4444444444444444,
              "#bd3786"
             ],
             [
              0.5555555555555556,
              "#d8576b"
             ],
             [
              0.6666666666666666,
              "#ed7953"
             ],
             [
              0.7777777777777778,
              "#fb9f3a"
             ],
             [
              0.8888888888888888,
              "#fdca26"
             ],
             [
              1,
              "#f0f921"
             ]
            ],
            "type": "surface"
           }
          ],
          "table": [
           {
            "cells": {
             "fill": {
              "color": "#EBF0F8"
             },
             "line": {
              "color": "white"
             }
            },
            "header": {
             "fill": {
              "color": "#C8D4E3"
             },
             "line": {
              "color": "white"
             }
            },
            "type": "table"
           }
          ]
         },
         "layout": {
          "annotationdefaults": {
           "arrowcolor": "#2a3f5f",
           "arrowhead": 0,
           "arrowwidth": 1
          },
          "autotypenumbers": "strict",
          "coloraxis": {
           "colorbar": {
            "outlinewidth": 0,
            "ticks": ""
           }
          },
          "colorscale": {
           "diverging": [
            [
             0,
             "#8e0152"
            ],
            [
             0.1,
             "#c51b7d"
            ],
            [
             0.2,
             "#de77ae"
            ],
            [
             0.3,
             "#f1b6da"
            ],
            [
             0.4,
             "#fde0ef"
            ],
            [
             0.5,
             "#f7f7f7"
            ],
            [
             0.6,
             "#e6f5d0"
            ],
            [
             0.7,
             "#b8e186"
            ],
            [
             0.8,
             "#7fbc41"
            ],
            [
             0.9,
             "#4d9221"
            ],
            [
             1,
             "#276419"
            ]
           ],
           "sequential": [
            [
             0,
             "#0d0887"
            ],
            [
             0.1111111111111111,
             "#46039f"
            ],
            [
             0.2222222222222222,
             "#7201a8"
            ],
            [
             0.3333333333333333,
             "#9c179e"
            ],
            [
             0.4444444444444444,
             "#bd3786"
            ],
            [
             0.5555555555555556,
             "#d8576b"
            ],
            [
             0.6666666666666666,
             "#ed7953"
            ],
            [
             0.7777777777777778,
             "#fb9f3a"
            ],
            [
             0.8888888888888888,
             "#fdca26"
            ],
            [
             1,
             "#f0f921"
            ]
           ],
           "sequentialminus": [
            [
             0,
             "#0d0887"
            ],
            [
             0.1111111111111111,
             "#46039f"
            ],
            [
             0.2222222222222222,
             "#7201a8"
            ],
            [
             0.3333333333333333,
             "#9c179e"
            ],
            [
             0.4444444444444444,
             "#bd3786"
            ],
            [
             0.5555555555555556,
             "#d8576b"
            ],
            [
             0.6666666666666666,
             "#ed7953"
            ],
            [
             0.7777777777777778,
             "#fb9f3a"
            ],
            [
             0.8888888888888888,
             "#fdca26"
            ],
            [
             1,
             "#f0f921"
            ]
           ]
          },
          "colorway": [
           "#636efa",
           "#EF553B",
           "#00cc96",
           "#ab63fa",
           "#FFA15A",
           "#19d3f3",
           "#FF6692",
           "#B6E880",
           "#FF97FF",
           "#FECB52"
          ],
          "font": {
           "color": "#2a3f5f"
          },
          "geo": {
           "bgcolor": "white",
           "lakecolor": "white",
           "landcolor": "#E5ECF6",
           "showlakes": true,
           "showland": true,
           "subunitcolor": "white"
          },
          "hoverlabel": {
           "align": "left"
          },
          "hovermode": "closest",
          "mapbox": {
           "style": "light"
          },
          "paper_bgcolor": "white",
          "plot_bgcolor": "#E5ECF6",
          "polar": {
           "angularaxis": {
            "gridcolor": "white",
            "linecolor": "white",
            "ticks": ""
           },
           "bgcolor": "#E5ECF6",
           "radialaxis": {
            "gridcolor": "white",
            "linecolor": "white",
            "ticks": ""
           }
          },
          "scene": {
           "xaxis": {
            "backgroundcolor": "#E5ECF6",
            "gridcolor": "white",
            "gridwidth": 2,
            "linecolor": "white",
            "showbackground": true,
            "ticks": "",
            "zerolinecolor": "white"
           },
           "yaxis": {
            "backgroundcolor": "#E5ECF6",
            "gridcolor": "white",
            "gridwidth": 2,
            "linecolor": "white",
            "showbackground": true,
            "ticks": "",
            "zerolinecolor": "white"
           },
           "zaxis": {
            "backgroundcolor": "#E5ECF6",
            "gridcolor": "white",
            "gridwidth": 2,
            "linecolor": "white",
            "showbackground": true,
            "ticks": "",
            "zerolinecolor": "white"
           }
          },
          "shapedefaults": {
           "line": {
            "color": "#2a3f5f"
           }
          },
          "ternary": {
           "aaxis": {
            "gridcolor": "white",
            "linecolor": "white",
            "ticks": ""
           },
           "baxis": {
            "gridcolor": "white",
            "linecolor": "white",
            "ticks": ""
           },
           "bgcolor": "#E5ECF6",
           "caxis": {
            "gridcolor": "white",
            "linecolor": "white",
            "ticks": ""
           }
          },
          "title": {
           "x": 0.05
          },
          "xaxis": {
           "automargin": true,
           "gridcolor": "white",
           "linecolor": "white",
           "ticks": "",
           "title": {
            "standoff": 15
           },
           "zerolinecolor": "white",
           "zerolinewidth": 2
          },
          "yaxis": {
           "automargin": true,
           "gridcolor": "white",
           "linecolor": "white",
           "ticks": "",
           "title": {
            "standoff": 15
           },
           "zerolinecolor": "white",
           "zerolinewidth": 2
          }
         }
        },
        "title": {
         "font": {
          "color": "#333333",
          "family": "Helvetica",
          "size": 20
         },
         "text": "",
         "x": 0.5,
         "xanchor": "center",
         "y": 0.95,
         "yanchor": "top"
        },
        "width": 800,
        "xaxis": {
         "anchor": "y",
         "domain": [
          0,
          0.32666666666666666
         ],
         "gridcolor": "#e2e2e2",
         "gridwidth": 1,
         "linecolor": "#000000",
         "linewidth": 1,
         "mirror": false,
         "showgrid": false,
         "showticklabels": true,
         "side": "bottom",
         "tickfont": {
          "color": "#333333",
          "family": "Helvetica",
          "size": 12
         },
         "ticklen": 5,
         "ticks": "outside",
         "tickwidth": 1,
         "title": {
          "font": {
           "color": "#333333",
           "family": "Helvetica",
           "size": 14
          },
          "text": ""
         },
         "visible": false,
         "zeroline": false
        },
        "xaxis2": {
         "anchor": "y2",
         "domain": [
          0.33666666666666667,
          0.6633333333333333
         ],
         "gridcolor": "#e2e2e2",
         "gridwidth": 1,
         "linecolor": "#000000",
         "linewidth": 1,
         "mirror": false,
         "showgrid": false,
         "showticklabels": true,
         "side": "bottom",
         "tickfont": {
          "color": "#333333",
          "family": "Helvetica",
          "size": 12
         },
         "ticklen": 5,
         "ticks": "outside",
         "tickwidth": 1,
         "title": {
          "font": {
           "color": "#333333",
           "family": "Helvetica",
           "size": 14
          },
          "text": ""
         },
         "visible": false,
         "zeroline": false
        },
        "xaxis3": {
         "anchor": "y3",
         "domain": [
          0.6733333333333333,
          1
         ],
         "gridcolor": "#e2e2e2",
         "gridwidth": 1,
         "linecolor": "#000000",
         "linewidth": 1,
         "mirror": false,
         "showgrid": false,
         "showticklabels": true,
         "side": "bottom",
         "tickfont": {
          "color": "#333333",
          "family": "Helvetica",
          "size": 12
         },
         "ticklen": 5,
         "ticks": "outside",
         "tickwidth": 1,
         "title": {
          "font": {
           "color": "#333333",
           "family": "Helvetica",
           "size": 14
          },
          "text": ""
         },
         "visible": false,
         "zeroline": false
        },
        "xaxis4": {
         "anchor": "y4",
         "domain": [
          0,
          0.32666666666666666
         ],
         "gridcolor": "#e2e2e2",
         "gridwidth": 1,
         "linecolor": "#000000",
         "linewidth": 1,
         "mirror": false,
         "showgrid": false,
         "showticklabels": true,
         "side": "bottom",
         "tickfont": {
          "color": "#333333",
          "family": "Helvetica",
          "size": 12
         },
         "ticklen": 5,
         "ticks": "outside",
         "tickwidth": 1,
         "title": {
          "font": {
           "color": "#333333",
           "family": "Helvetica",
           "size": 14
          },
          "text": ""
         },
         "zeroline": false
        },
        "xaxis5": {
         "anchor": "y5",
         "domain": [
          0.33666666666666667,
          0.6633333333333333
         ],
         "gridcolor": "#e2e2e2",
         "gridwidth": 1,
         "linecolor": "#000000",
         "linewidth": 1,
         "mirror": false,
         "showgrid": false,
         "showticklabels": true,
         "side": "bottom",
         "tickfont": {
          "color": "#333333",
          "family": "Helvetica",
          "size": 12
         },
         "ticklen": 5,
         "ticks": "outside",
         "tickwidth": 1,
         "title": {
          "font": {
           "color": "#333333",
           "family": "Helvetica",
           "size": 14
          },
          "text": ""
         },
         "zeroline": false
        },
        "xaxis6": {
         "anchor": "y6",
         "domain": [
          0.6733333333333333,
          1
         ],
         "gridcolor": "#e2e2e2",
         "gridwidth": 1,
         "linecolor": "#000000",
         "linewidth": 1,
         "mirror": false,
         "showgrid": false,
         "showticklabels": true,
         "side": "bottom",
         "tickfont": {
          "color": "#333333",
          "family": "Helvetica",
          "size": 12
         },
         "ticklen": 5,
         "ticks": "outside",
         "tickwidth": 1,
         "title": {
          "font": {
           "color": "#333333",
           "family": "Helvetica",
           "size": 14
          },
          "text": ""
         },
         "zeroline": false
        },
        "yaxis": {
         "anchor": "x",
         "domain": [
          0.55,
          1
         ],
         "gridcolor": "#e2e2e2",
         "gridwidth": 1,
         "linecolor": "#000000",
         "linewidth": 1,
         "mirror": false,
         "showgrid": false,
         "showticklabels": true,
         "tickfont": {
          "color": "#333333",
          "family": "Helvetica",
          "size": 12
         },
         "ticklen": 5,
         "ticks": "outside",
         "tickwidth": 1,
         "title": {
          "font": {
           "color": "#333333",
           "family": "Helvetica",
           "size": 14
          },
          "standoff": 0,
          "text": ""
         },
         "zeroline": false
        },
        "yaxis2": {
         "anchor": "x2",
         "domain": [
          0.55,
          1
         ],
         "gridcolor": "#e2e2e2",
         "gridwidth": 1,
         "linecolor": "#000000",
         "linewidth": 1,
         "mirror": false,
         "showgrid": false,
         "showticklabels": true,
         "tickfont": {
          "color": "#333333",
          "family": "Helvetica",
          "size": 12
         },
         "ticklen": 5,
         "ticks": "outside",
         "tickwidth": 1,
         "title": {
          "font": {
           "color": "#333333",
           "family": "Helvetica",
           "size": 14
          },
          "standoff": 0,
          "text": ""
         },
         "visible": false,
         "zeroline": false
        },
        "yaxis3": {
         "anchor": "x3",
         "domain": [
          0.55,
          1
         ],
         "gridcolor": "#e2e2e2",
         "gridwidth": 1,
         "linecolor": "#000000",
         "linewidth": 1,
         "mirror": false,
         "showgrid": false,
         "showticklabels": true,
         "tickfont": {
          "color": "#333333",
          "family": "Helvetica",
          "size": 12
         },
         "ticklen": 5,
         "ticks": "outside",
         "tickwidth": 1,
         "title": {
          "font": {
           "color": "#333333",
           "family": "Helvetica",
           "size": 14
          },
          "standoff": 0,
          "text": ""
         },
         "visible": false,
         "zeroline": false
        },
        "yaxis4": {
         "anchor": "x4",
         "domain": [
          0,
          0.45
         ],
         "gridcolor": "#e2e2e2",
         "gridwidth": 1,
         "linecolor": "#000000",
         "linewidth": 1,
         "mirror": false,
         "showgrid": false,
         "showticklabels": true,
         "tickfont": {
          "color": "#333333",
          "family": "Helvetica",
          "size": 12
         },
         "ticklen": 5,
         "ticks": "outside",
         "tickwidth": 1,
         "title": {
          "font": {
           "color": "#333333",
           "family": "Helvetica",
           "size": 14
          },
          "standoff": 0,
          "text": ""
         },
         "zeroline": false
        },
        "yaxis5": {
         "anchor": "x5",
         "domain": [
          0,
          0.45
         ],
         "gridcolor": "#e2e2e2",
         "gridwidth": 1,
         "linecolor": "#000000",
         "linewidth": 1,
         "mirror": false,
         "showgrid": false,
         "showticklabels": true,
         "tickfont": {
          "color": "#333333",
          "family": "Helvetica",
          "size": 12
         },
         "ticklen": 5,
         "ticks": "outside",
         "tickwidth": 1,
         "title": {
          "font": {
           "color": "#333333",
           "family": "Helvetica",
           "size": 14
          },
          "standoff": 0,
          "text": ""
         },
         "visible": false,
         "zeroline": false
        },
        "yaxis6": {
         "anchor": "x6",
         "domain": [
          0,
          0.45
         ],
         "gridcolor": "#e2e2e2",
         "gridwidth": 1,
         "linecolor": "#000000",
         "linewidth": 1,
         "mirror": false,
         "showgrid": false,
         "showticklabels": true,
         "tickfont": {
          "color": "#333333",
          "family": "Helvetica",
          "size": 12
         },
         "ticklen": 5,
         "ticks": "outside",
         "tickwidth": 1,
         "title": {
          "font": {
           "color": "#333333",
           "family": "Helvetica",
           "size": 14
          },
          "standoff": 0,
          "text": ""
         },
         "visible": false,
         "zeroline": false
        }
       }
      }
     },
     "metadata": {},
     "output_type": "display_data"
    }
   ],
   "source": []
  },
  {
   "cell_type": "code",
   "execution_count": null,
   "metadata": {},
   "outputs": [],
   "source": []
  }
 ],
 "metadata": {
  "kernelspec": {
   "display_name": "Python 3",
   "language": "python",
   "name": "python3"
  },
  "language_info": {
   "codemirror_mode": {
    "name": "ipython",
    "version": 3
   },
   "file_extension": ".py",
   "mimetype": "text/x-python",
   "name": "python",
   "nbconvert_exporter": "python",
   "pygments_lexer": "ipython3",
   "version": "3.11.4"
  }
 },
 "nbformat": 4,
 "nbformat_minor": 2
}
