{
 "cells": [
  {
   "cell_type": "code",
   "execution_count": 44,
   "metadata": {},
   "outputs": [],
   "source": [
    "import pickle\n",
    "import modules.ChemicalSimilarity as chem_sim\n",
    "import os\n",
    "\n",
    "EXPORT_PATH = os.path.join(os.getcwd(), \"exports\", \"chemical_similarity\", \"\")\n",
    "from typing import Dict, List\n",
    "import plotly.graph_objects as go\n",
    "from modules.Graph import Graph"
   ]
  },
  {
   "cell_type": "code",
   "execution_count": 59,
   "metadata": {},
   "outputs": [],
   "source": [
    "configs = [\n",
    "    (\"model7_1iep_admetfg\", \"1IEP\", \"ADMET+FGs\", \"softsub\"),\n",
    "    (\"model2_1iep\", \"1IEP\", \"ADMET+FGs\", \"admetfg_softsub\"),\n",
    "    (\"model7_1iep_admetfg\", \"1IEP\", \"ADMET+FGs\", \"random\"),\n",
    "    (\"model7_1iep_admet\", \"1IEP\", \"ADMET\", \"softsub\"),\n",
    "    (\"model7_1iep_admetfg\", \"1IEP\", \"ADMET+FGs\", \"randomwsampling\"),\n",
    "    (\"model7_1iep_admetfg\", \"1IEP\", \"ADMET+FGs\", \"diffusion\"),\n",
    "]\n",
    "# For Tanimoto\n",
    "fpToHyperparams: Dict[str, Dict[str, List[float]]] = {\n",
    "    \"RDKit FP\": {\"mean\": [0.27, 0.45], \"max\": [0.41, 0.80]},\n",
    "}\n",
    "sim_type = \"Tanimoto\"\n",
    "for prefix, target, filters, channel in configs:\n",
    "    for fp_type, hyperparams in fpToHyperparams.items():\n",
    "        fname = f\"{prefix}_{channel}_{target}_{filters}\"\n",
    "        fig, mean_lists, max_lists = pickle.load(\n",
    "            open(EXPORT_PATH + f\"{fp_type}_by_{sim_type}_{fname}.pkl\", \"rb\")\n",
    "        )\n",
    "        new_fig = go.Figure()\n",
    "        new_fig.add_trace(\n",
    "            chem_sim.create_similarity_al_trace(\n",
    "                mean_lists,\n",
    "                colorbar=dict(\n",
    "                    len=1,\n",
    "                    title=f\"Tanimoto<br>Similarity\",\n",
    "                    tickvals=[0.29, 0.32, 0.35, 0.38, 0.41, 0.44],\n",
    "                ),\n",
    "                zmin=0.28,\n",
    "                zmax=0.45,\n",
    "            )\n",
    "        )\n",
    "        gr = Graph()\n",
    "        gr.update_parameters(\n",
    "            dict(\n",
    "                width=630,\n",
    "                height=300,\n",
    "                annotation_size=24,\n",
    "                t_margin=20,\n",
    "                b_margin=0,\n",
    "                l_margin=0,\n",
    "                r_margin=0,\n",
    "            )\n",
    "        )\n",
    "        gr.style_figure(new_fig)\n",
    "        gr.save_figure(\n",
    "            new_fig, path=EXPORT_PATH, fname=f\"{fp_type}_by_{sim_type}_{fname}_mean\"\n",
    "        )"
   ]
  },
  {
   "cell_type": "code",
   "execution_count": 58,
   "metadata": {},
   "outputs": [
    {
     "data": {
      "application/vnd.plotly.v1+json": {
       "config": {
        "plotlyServerURL": "https://plot.ly"
       },
       "data": [
        {
         "colorbar": {
          "len": 1,
          "tickvals": [
           0.29,
           0.32,
           0.35,
           0.38,
           0.41,
           0.44
          ],
          "title": {
           "text": "Tanimoto<br>Similarity"
          }
         },
         "colorscale": [
          [
           0,
           "#000004"
          ],
          [
           0.1111111111111111,
           "#180f3d"
          ],
          [
           0.2222222222222222,
           "#440f76"
          ],
          [
           0.3333333333333333,
           "#721f81"
          ],
          [
           0.4444444444444444,
           "#9e2f7f"
          ],
          [
           0.5555555555555556,
           "#cd4071"
          ],
          [
           0.6666666666666666,
           "#f1605d"
          ],
          [
           0.7777777777777778,
           "#fd9668"
          ],
          [
           0.8888888888888888,
           "#feca8d"
          ],
          [
           1,
           "#fcfdbf"
          ]
         ],
         "showscale": true,
         "text": [
          [
           0.33588812873398355,
           0.3699302945785067,
           0.3580690930705563,
           0.3479629775654304,
           0.3612472454833673,
           0.36056830496876946,
           0.3818337634066448
          ],
          [
           0.3301869476515398,
           0.361638573762214,
           0.3504362197424384,
           0.3412718784597162,
           0.35405860908690046,
           0.3533829842457791,
           0.3736062535684621
          ],
          [
           0.3263544125214474,
           0.3563869120498308,
           0.345520573745361,
           0.33713681549110225,
           0.350048905366328,
           0.34939385820764707,
           0.3679153054332801
          ],
          [
           0.32002843767023254,
           0.3473745544727752,
           0.3384747907407722,
           0.3302458560028195,
           0.3431107810237242,
           0.3427243299976664,
           0.35896601102084635
          ],
          [
           0.31274656909587223,
           0.33807122356106467,
           0.3303239954639911,
           0.32287317681680333,
           0.33570185750743825,
           0.3351333706637345,
           0.34979173590593604
          ],
          [
           0.3020709623476938,
           0.3242473906068828,
           0.31852417933619626,
           0.3122244449524612,
           0.3240152757634517,
           0.3240741784046971,
           0.3362130384492432
          ]
         ],
         "texttemplate": "%{text:.3f}",
         "type": "heatmap",
         "x": [
          "imatinib",
          "nilotinib",
          "dasatinib",
          "bosutinib",
          "ponatinib",
          "bafetinib",
          "asciminib"
         ],
         "y": [
          "AL5",
          "AL4",
          "AL3",
          "AL2",
          "AL1",
          "AL0"
         ],
         "z": [
          [
           0.33588812873398355,
           0.3699302945785067,
           0.3580690930705563,
           0.3479629775654304,
           0.3612472454833673,
           0.36056830496876946,
           0.3818337634066448
          ],
          [
           0.3301869476515398,
           0.361638573762214,
           0.3504362197424384,
           0.3412718784597162,
           0.35405860908690046,
           0.3533829842457791,
           0.3736062535684621
          ],
          [
           0.3263544125214474,
           0.3563869120498308,
           0.345520573745361,
           0.33713681549110225,
           0.350048905366328,
           0.34939385820764707,
           0.3679153054332801
          ],
          [
           0.32002843767023254,
           0.3473745544727752,
           0.3384747907407722,
           0.3302458560028195,
           0.3431107810237242,
           0.3427243299976664,
           0.35896601102084635
          ],
          [
           0.31274656909587223,
           0.33807122356106467,
           0.3303239954639911,
           0.32287317681680333,
           0.33570185750743825,
           0.3351333706637345,
           0.34979173590593604
          ],
          [
           0.3020709623476938,
           0.3242473906068828,
           0.31852417933619626,
           0.3122244449524612,
           0.3240152757634517,
           0.3240741784046971,
           0.3362130384492432
          ]
         ],
         "zmax": 0.45,
         "zmin": 0.28
        }
       ],
       "layout": {
        "font": {
         "color": "#333333",
         "family": "Helvetica",
         "size": 12
        },
        "height": 300,
        "legend": {
         "font": {
          "color": "#333333",
          "family": "Helvetica",
          "size": 12
         }
        },
        "margin": {
         "b": 0,
         "l": 0,
         "r": 0,
         "t": 20
        },
        "paper_bgcolor": "white",
        "plot_bgcolor": "white",
        "showlegend": true,
        "template": {
         "data": {
          "bar": [
           {
            "error_x": {
             "color": "#2a3f5f"
            },
            "error_y": {
             "color": "#2a3f5f"
            },
            "marker": {
             "line": {
              "color": "#E5ECF6",
              "width": 0.5
             },
             "pattern": {
              "fillmode": "overlay",
              "size": 10,
              "solidity": 0.2
             }
            },
            "type": "bar"
           }
          ],
          "barpolar": [
           {
            "marker": {
             "line": {
              "color": "#E5ECF6",
              "width": 0.5
             },
             "pattern": {
              "fillmode": "overlay",
              "size": 10,
              "solidity": 0.2
             }
            },
            "type": "barpolar"
           }
          ],
          "carpet": [
           {
            "aaxis": {
             "endlinecolor": "#2a3f5f",
             "gridcolor": "white",
             "linecolor": "white",
             "minorgridcolor": "white",
             "startlinecolor": "#2a3f5f"
            },
            "baxis": {
             "endlinecolor": "#2a3f5f",
             "gridcolor": "white",
             "linecolor": "white",
             "minorgridcolor": "white",
             "startlinecolor": "#2a3f5f"
            },
            "type": "carpet"
           }
          ],
          "choropleth": [
           {
            "colorbar": {
             "outlinewidth": 0,
             "ticks": ""
            },
            "type": "choropleth"
           }
          ],
          "contour": [
           {
            "colorbar": {
             "outlinewidth": 0,
             "ticks": ""
            },
            "colorscale": [
             [
              0,
              "#0d0887"
             ],
             [
              0.1111111111111111,
              "#46039f"
             ],
             [
              0.2222222222222222,
              "#7201a8"
             ],
             [
              0.3333333333333333,
              "#9c179e"
             ],
             [
              0.4444444444444444,
              "#bd3786"
             ],
             [
              0.5555555555555556,
              "#d8576b"
             ],
             [
              0.6666666666666666,
              "#ed7953"
             ],
             [
              0.7777777777777778,
              "#fb9f3a"
             ],
             [
              0.8888888888888888,
              "#fdca26"
             ],
             [
              1,
              "#f0f921"
             ]
            ],
            "type": "contour"
           }
          ],
          "contourcarpet": [
           {
            "colorbar": {
             "outlinewidth": 0,
             "ticks": ""
            },
            "type": "contourcarpet"
           }
          ],
          "heatmap": [
           {
            "colorbar": {
             "outlinewidth": 0,
             "ticks": ""
            },
            "colorscale": [
             [
              0,
              "#0d0887"
             ],
             [
              0.1111111111111111,
              "#46039f"
             ],
             [
              0.2222222222222222,
              "#7201a8"
             ],
             [
              0.3333333333333333,
              "#9c179e"
             ],
             [
              0.4444444444444444,
              "#bd3786"
             ],
             [
              0.5555555555555556,
              "#d8576b"
             ],
             [
              0.6666666666666666,
              "#ed7953"
             ],
             [
              0.7777777777777778,
              "#fb9f3a"
             ],
             [
              0.8888888888888888,
              "#fdca26"
             ],
             [
              1,
              "#f0f921"
             ]
            ],
            "type": "heatmap"
           }
          ],
          "heatmapgl": [
           {
            "colorbar": {
             "outlinewidth": 0,
             "ticks": ""
            },
            "colorscale": [
             [
              0,
              "#0d0887"
             ],
             [
              0.1111111111111111,
              "#46039f"
             ],
             [
              0.2222222222222222,
              "#7201a8"
             ],
             [
              0.3333333333333333,
              "#9c179e"
             ],
             [
              0.4444444444444444,
              "#bd3786"
             ],
             [
              0.5555555555555556,
              "#d8576b"
             ],
             [
              0.6666666666666666,
              "#ed7953"
             ],
             [
              0.7777777777777778,
              "#fb9f3a"
             ],
             [
              0.8888888888888888,
              "#fdca26"
             ],
             [
              1,
              "#f0f921"
             ]
            ],
            "type": "heatmapgl"
           }
          ],
          "histogram": [
           {
            "marker": {
             "pattern": {
              "fillmode": "overlay",
              "size": 10,
              "solidity": 0.2
             }
            },
            "type": "histogram"
           }
          ],
          "histogram2d": [
           {
            "colorbar": {
             "outlinewidth": 0,
             "ticks": ""
            },
            "colorscale": [
             [
              0,
              "#0d0887"
             ],
             [
              0.1111111111111111,
              "#46039f"
             ],
             [
              0.2222222222222222,
              "#7201a8"
             ],
             [
              0.3333333333333333,
              "#9c179e"
             ],
             [
              0.4444444444444444,
              "#bd3786"
             ],
             [
              0.5555555555555556,
              "#d8576b"
             ],
             [
              0.6666666666666666,
              "#ed7953"
             ],
             [
              0.7777777777777778,
              "#fb9f3a"
             ],
             [
              0.8888888888888888,
              "#fdca26"
             ],
             [
              1,
              "#f0f921"
             ]
            ],
            "type": "histogram2d"
           }
          ],
          "histogram2dcontour": [
           {
            "colorbar": {
             "outlinewidth": 0,
             "ticks": ""
            },
            "colorscale": [
             [
              0,
              "#0d0887"
             ],
             [
              0.1111111111111111,
              "#46039f"
             ],
             [
              0.2222222222222222,
              "#7201a8"
             ],
             [
              0.3333333333333333,
              "#9c179e"
             ],
             [
              0.4444444444444444,
              "#bd3786"
             ],
             [
              0.5555555555555556,
              "#d8576b"
             ],
             [
              0.6666666666666666,
              "#ed7953"
             ],
             [
              0.7777777777777778,
              "#fb9f3a"
             ],
             [
              0.8888888888888888,
              "#fdca26"
             ],
             [
              1,
              "#f0f921"
             ]
            ],
            "type": "histogram2dcontour"
           }
          ],
          "mesh3d": [
           {
            "colorbar": {
             "outlinewidth": 0,
             "ticks": ""
            },
            "type": "mesh3d"
           }
          ],
          "parcoords": [
           {
            "line": {
             "colorbar": {
              "outlinewidth": 0,
              "ticks": ""
             }
            },
            "type": "parcoords"
           }
          ],
          "pie": [
           {
            "automargin": true,
            "type": "pie"
           }
          ],
          "scatter": [
           {
            "fillpattern": {
             "fillmode": "overlay",
             "size": 10,
             "solidity": 0.2
            },
            "type": "scatter"
           }
          ],
          "scatter3d": [
           {
            "line": {
             "colorbar": {
              "outlinewidth": 0,
              "ticks": ""
             }
            },
            "marker": {
             "colorbar": {
              "outlinewidth": 0,
              "ticks": ""
             }
            },
            "type": "scatter3d"
           }
          ],
          "scattercarpet": [
           {
            "marker": {
             "colorbar": {
              "outlinewidth": 0,
              "ticks": ""
             }
            },
            "type": "scattercarpet"
           }
          ],
          "scattergeo": [
           {
            "marker": {
             "colorbar": {
              "outlinewidth": 0,
              "ticks": ""
             }
            },
            "type": "scattergeo"
           }
          ],
          "scattergl": [
           {
            "marker": {
             "colorbar": {
              "outlinewidth": 0,
              "ticks": ""
             }
            },
            "type": "scattergl"
           }
          ],
          "scattermapbox": [
           {
            "marker": {
             "colorbar": {
              "outlinewidth": 0,
              "ticks": ""
             }
            },
            "type": "scattermapbox"
           }
          ],
          "scatterpolar": [
           {
            "marker": {
             "colorbar": {
              "outlinewidth": 0,
              "ticks": ""
             }
            },
            "type": "scatterpolar"
           }
          ],
          "scatterpolargl": [
           {
            "marker": {
             "colorbar": {
              "outlinewidth": 0,
              "ticks": ""
             }
            },
            "type": "scatterpolargl"
           }
          ],
          "scatterternary": [
           {
            "marker": {
             "colorbar": {
              "outlinewidth": 0,
              "ticks": ""
             }
            },
            "type": "scatterternary"
           }
          ],
          "surface": [
           {
            "colorbar": {
             "outlinewidth": 0,
             "ticks": ""
            },
            "colorscale": [
             [
              0,
              "#0d0887"
             ],
             [
              0.1111111111111111,
              "#46039f"
             ],
             [
              0.2222222222222222,
              "#7201a8"
             ],
             [
              0.3333333333333333,
              "#9c179e"
             ],
             [
              0.4444444444444444,
              "#bd3786"
             ],
             [
              0.5555555555555556,
              "#d8576b"
             ],
             [
              0.6666666666666666,
              "#ed7953"
             ],
             [
              0.7777777777777778,
              "#fb9f3a"
             ],
             [
              0.8888888888888888,
              "#fdca26"
             ],
             [
              1,
              "#f0f921"
             ]
            ],
            "type": "surface"
           }
          ],
          "table": [
           {
            "cells": {
             "fill": {
              "color": "#EBF0F8"
             },
             "line": {
              "color": "white"
             }
            },
            "header": {
             "fill": {
              "color": "#C8D4E3"
             },
             "line": {
              "color": "white"
             }
            },
            "type": "table"
           }
          ]
         },
         "layout": {
          "annotationdefaults": {
           "arrowcolor": "#2a3f5f",
           "arrowhead": 0,
           "arrowwidth": 1
          },
          "autotypenumbers": "strict",
          "coloraxis": {
           "colorbar": {
            "outlinewidth": 0,
            "ticks": ""
           }
          },
          "colorscale": {
           "diverging": [
            [
             0,
             "#8e0152"
            ],
            [
             0.1,
             "#c51b7d"
            ],
            [
             0.2,
             "#de77ae"
            ],
            [
             0.3,
             "#f1b6da"
            ],
            [
             0.4,
             "#fde0ef"
            ],
            [
             0.5,
             "#f7f7f7"
            ],
            [
             0.6,
             "#e6f5d0"
            ],
            [
             0.7,
             "#b8e186"
            ],
            [
             0.8,
             "#7fbc41"
            ],
            [
             0.9,
             "#4d9221"
            ],
            [
             1,
             "#276419"
            ]
           ],
           "sequential": [
            [
             0,
             "#0d0887"
            ],
            [
             0.1111111111111111,
             "#46039f"
            ],
            [
             0.2222222222222222,
             "#7201a8"
            ],
            [
             0.3333333333333333,
             "#9c179e"
            ],
            [
             0.4444444444444444,
             "#bd3786"
            ],
            [
             0.5555555555555556,
             "#d8576b"
            ],
            [
             0.6666666666666666,
             "#ed7953"
            ],
            [
             0.7777777777777778,
             "#fb9f3a"
            ],
            [
             0.8888888888888888,
             "#fdca26"
            ],
            [
             1,
             "#f0f921"
            ]
           ],
           "sequentialminus": [
            [
             0,
             "#0d0887"
            ],
            [
             0.1111111111111111,
             "#46039f"
            ],
            [
             0.2222222222222222,
             "#7201a8"
            ],
            [
             0.3333333333333333,
             "#9c179e"
            ],
            [
             0.4444444444444444,
             "#bd3786"
            ],
            [
             0.5555555555555556,
             "#d8576b"
            ],
            [
             0.6666666666666666,
             "#ed7953"
            ],
            [
             0.7777777777777778,
             "#fb9f3a"
            ],
            [
             0.8888888888888888,
             "#fdca26"
            ],
            [
             1,
             "#f0f921"
            ]
           ]
          },
          "colorway": [
           "#636efa",
           "#EF553B",
           "#00cc96",
           "#ab63fa",
           "#FFA15A",
           "#19d3f3",
           "#FF6692",
           "#B6E880",
           "#FF97FF",
           "#FECB52"
          ],
          "font": {
           "color": "#2a3f5f"
          },
          "geo": {
           "bgcolor": "white",
           "lakecolor": "white",
           "landcolor": "#E5ECF6",
           "showlakes": true,
           "showland": true,
           "subunitcolor": "white"
          },
          "hoverlabel": {
           "align": "left"
          },
          "hovermode": "closest",
          "mapbox": {
           "style": "light"
          },
          "paper_bgcolor": "white",
          "plot_bgcolor": "#E5ECF6",
          "polar": {
           "angularaxis": {
            "gridcolor": "white",
            "linecolor": "white",
            "ticks": ""
           },
           "bgcolor": "#E5ECF6",
           "radialaxis": {
            "gridcolor": "white",
            "linecolor": "white",
            "ticks": ""
           }
          },
          "scene": {
           "xaxis": {
            "backgroundcolor": "#E5ECF6",
            "gridcolor": "white",
            "gridwidth": 2,
            "linecolor": "white",
            "showbackground": true,
            "ticks": "",
            "zerolinecolor": "white"
           },
           "yaxis": {
            "backgroundcolor": "#E5ECF6",
            "gridcolor": "white",
            "gridwidth": 2,
            "linecolor": "white",
            "showbackground": true,
            "ticks": "",
            "zerolinecolor": "white"
           },
           "zaxis": {
            "backgroundcolor": "#E5ECF6",
            "gridcolor": "white",
            "gridwidth": 2,
            "linecolor": "white",
            "showbackground": true,
            "ticks": "",
            "zerolinecolor": "white"
           }
          },
          "shapedefaults": {
           "line": {
            "color": "#2a3f5f"
           }
          },
          "ternary": {
           "aaxis": {
            "gridcolor": "white",
            "linecolor": "white",
            "ticks": ""
           },
           "baxis": {
            "gridcolor": "white",
            "linecolor": "white",
            "ticks": ""
           },
           "bgcolor": "#E5ECF6",
           "caxis": {
            "gridcolor": "white",
            "linecolor": "white",
            "ticks": ""
           }
          },
          "title": {
           "x": 0.05
          },
          "xaxis": {
           "automargin": true,
           "gridcolor": "white",
           "linecolor": "white",
           "ticks": "",
           "title": {
            "standoff": 15
           },
           "zerolinecolor": "white",
           "zerolinewidth": 2
          },
          "yaxis": {
           "automargin": true,
           "gridcolor": "white",
           "linecolor": "white",
           "ticks": "",
           "title": {
            "standoff": 15
           },
           "zerolinecolor": "white",
           "zerolinewidth": 2
          }
         }
        },
        "title": {
         "font": {
          "color": "#333333",
          "family": "Helvetica",
          "size": 20
         },
         "text": "",
         "x": 0.5,
         "xanchor": "center",
         "y": 0.95,
         "yanchor": "top"
        },
        "width": 630,
        "xaxis": {
         "gridcolor": "#e2e2e2",
         "gridwidth": 1,
         "linecolor": "#000000",
         "linewidth": 1,
         "mirror": false,
         "showgrid": false,
         "showticklabels": true,
         "side": "bottom",
         "tickfont": {
          "color": "#333333",
          "family": "Helvetica",
          "size": 12
         },
         "ticklen": 5,
         "ticks": "outside",
         "tickwidth": 1,
         "title": {
          "font": {
           "color": "#333333",
           "family": "Helvetica",
           "size": 14
          },
          "text": ""
         },
         "zeroline": false
        },
        "yaxis": {
         "gridcolor": "#e2e2e2",
         "gridwidth": 1,
         "linecolor": "#000000",
         "linewidth": 1,
         "mirror": false,
         "showgrid": false,
         "showticklabels": true,
         "tickfont": {
          "color": "#333333",
          "family": "Helvetica",
          "size": 12
         },
         "ticklen": 5,
         "ticks": "outside",
         "tickwidth": 1,
         "title": {
          "font": {
           "color": "#333333",
           "family": "Helvetica",
           "size": 14
          },
          "standoff": 0,
          "text": ""
         },
         "zeroline": false
        }
       }
      }
     },
     "metadata": {},
     "output_type": "display_data"
    }
   ],
   "source": [
    "gr.update_parameters(dict())\n",
    "gr.style_figure(new_fig)\n",
    "new_fig"
   ]
  },
  {
   "cell_type": "code",
   "execution_count": null,
   "metadata": {},
   "outputs": [],
   "source": []
  }
 ],
 "metadata": {
  "kernelspec": {
   "display_name": "Python 3",
   "language": "python",
   "name": "python3"
  },
  "language_info": {
   "codemirror_mode": {
    "name": "ipython",
    "version": 3
   },
   "file_extension": ".py",
   "mimetype": "text/x-python",
   "name": "python",
   "nbconvert_exporter": "python",
   "pygments_lexer": "ipython3",
   "version": "3.11.4"
  }
 },
 "nbformat": 4,
 "nbformat_minor": 2
}
