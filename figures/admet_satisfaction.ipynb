{
 "cells": [
  {
   "cell_type": "code",
   "execution_count": null,
   "metadata": {},
   "outputs": [],
   "source": [
    "import modules.secret\n",
    "from modules.Graph import Graph\n",
    "import modules.FilterPassing as flt_pass\n",
    "import os\n",
    "import pprint\n",
    "import pickle\n",
    "\n",
    "pp = pprint.PrettyPrinter(indent=4, width=100)\n",
    "\n",
    "SCORING_PATH = modules.secret.PRODUCTION_RUNS_PATH + \"2. Generation/smiles/\"\n",
    "EXPORT_PATH = os.path.join(os.getcwd(), \"exports\", \"admet_satisfaction\", \"\")\n",
    "SCORING_PATH"
   ]
  },
  {
   "cell_type": "code",
   "execution_count": null,
   "metadata": {},
   "outputs": [],
   "source": [
    "# configs = [\n",
    "#     (\"model7_hnh_admet\", \"HNH\", \"ADMET\", \"softsub\", 5, 0),\n",
    "#     (\"model7_hnh_admetfg\", \"HNH\", \"ADMET+FGs\", \"softsub\", 5, 0),\n",
    "#     (\"model2_hnh\", \"HNH\", \"ADMET+FGs\", \"admetfg_softsub\", 5, 0),\n",
    "#     (\"model7_1iep_admet\", \"1IEP\", \"ADMET\", \"softsub\", 10, 0.02),\n",
    "#     (\"model7_1iep_admetfg\", \"1IEP\", \"ADMET+FGs\", \"softsub\", 10, 0.02),\n",
    "#     (\"model2_1iep\", \"1IEP\", \"ADMET+FGs\", \"admetfg_softsub\", 20, 0),\n",
    "# ]"
   ]
  },
  {
   "cell_type": "code",
   "execution_count": null,
   "metadata": {},
   "outputs": [],
   "source": [
    "prefix = \"model2_hnh\"\n",
    "n_iters = 5\n",
    "channel = \"admetfg_softsub\"\n",
    "filters = \"ADMET+FGs\"\n",
    "target = \"HNH\"\n",
    "ignored = {\"fChar\"}\n",
    "fnames = flt_pass.prepare_generation_fnames(\n",
    "    prefix=prefix, n_iters=n_iters, channel=channel, filters=filters, target=target\n",
    ")\n",
    "load_generation = flt_pass.prepare_generation_loader(base_path=SCORING_PATH)\n",
    "traces_lists = []\n",
    "max_val = -float(\"inf\")\n",
    "for i, fname in enumerate(fnames):\n",
    "    smiles = load_generation(fname)\n",
    "    filtToData = flt_pass.compute_admet_metrics(smiles)\n",
    "    traces, i_max_val = flt_pass.create_admet_metrics_traces(\n",
    "        filtToData, showlegend=i == 0, ignored_metrics=ignored\n",
    "    )\n",
    "    max_val = max(max_val, i_max_val)\n",
    "    traces_lists.append(traces)"
   ]
  },
  {
   "cell_type": "code",
   "execution_count": null,
   "metadata": {},
   "outputs": [],
   "source": [
    "traces_lists = pickle.load(open(modules.secret.PACKAGE_PATH + \"traces_lists.pkl\", \"rb\"))"
   ]
  },
  {
   "cell_type": "code",
   "execution_count": null,
   "metadata": {},
   "outputs": [],
   "source": [
    "fig = flt_pass.create_admet_progression_figure(\n",
    "    traces_lists, v_space=0.1, h_space=0.08, y_max=1.3\n",
    ")\n",
    "graph = Graph()\n",
    "graph.update_parameters(dict(width=1000, height=700, annotation_size=28))\n",
    "graph.style_figure(fig)\n",
    "fig.update_layout(\n",
    "    showlegend=True,\n",
    "    legend=dict(\n",
    "        x=1.0,\n",
    "        y=0.5,\n",
    "        font=dict(size=18),\n",
    "    ),\n",
    ")\n",
    "graph.save_figure(figure=fig, path=EXPORT_PATH, fname=f\"{prefix}_{filters}_{target}\")\n",
    "fig.show()"
   ]
  },
  {
   "cell_type": "code",
   "execution_count": null,
   "metadata": {},
   "outputs": [],
   "source": [
    "# fnames = flt_pass.prepare_generation_fnames(\n",
    "#     prefix=\"model2_hnh\",\n",
    "#     n_iters=5,\n",
    "#     channel=\"admetfg_softsub\",\n",
    "#     filters=\"ADMET+FGs\",\n",
    "#     target=\"HNH\",\n",
    "# )\n",
    "# pp.pprint(fnames)"
   ]
  },
  {
   "cell_type": "code",
   "execution_count": null,
   "metadata": {},
   "outputs": [],
   "source": []
  }
 ],
 "metadata": {
  "kernelspec": {
   "display_name": "Python 3",
   "language": "python",
   "name": "python3"
  },
  "language_info": {
   "codemirror_mode": {
    "name": "ipython",
    "version": 3
   },
   "file_extension": ".py",
   "mimetype": "text/x-python",
   "name": "python",
   "nbconvert_exporter": "python",
   "pygments_lexer": "ipython3",
   "version": "3.11.4"
  }
 },
 "nbformat": 4,
 "nbformat_minor": 2
}
