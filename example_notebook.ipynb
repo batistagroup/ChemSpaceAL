{
 "cells": [
  {
   "cell_type": "code",
   "execution_count": 1,
   "metadata": {},
   "outputs": [],
   "source": [
    "import ChemSpaceAL\n",
    "from ChemSpaceAL import InitializeWorkspace\n",
    "from ChemSpaceAL import Configuration\n",
    "from ChemSpaceAL import Dataset\n",
    "from ChemSpaceAL import Model\n",
    "from ChemSpaceAL import Training\n",
    "from ChemSpaceAL import Generation\n",
    "from ChemSpaceAL import Sampling\n",
    "from ChemSpaceAL import ALConstruction\n",
    "\n",
    "\n",
    "import os"
   ]
  },
  {
   "cell_type": "code",
   "execution_count": 3,
   "metadata": {},
   "outputs": [
    {
     "name": "stdout",
     "output_type": "stream",
     "text": [
      "    will create folders at base_path='/Users/morgunov/batista/Summer/ChemSpaceAL/PaperRuns/'\n"
     ]
    }
   ],
   "source": [
    "# Intiialize the workspace directory\n",
    "base_path = os.getcwd() + \"/PaperRuns/\"\n",
    "InitializeWorkspace.create_folders(base_path=base_path)\n",
    "config = Configuration.Config(\n",
    "    base_path=base_path,\n",
    "    cycle_prefix=\"model0\",\n",
    "    al_iteration=0,\n",
    "    cycle_suffix=\"ch1\",\n",
    "    training_fname=\"moses_train.csv.gz\",\n",
    "    validation_fname=\"moses_test.csv.gz\",\n",
    "    slice_data=1_000,\n",
    "    verbose=True,\n",
    ")\n",
    "# ds = Dataset.load_data(config=config, mode=\"Pretraining\")"
   ]
  },
  {
   "cell_type": "code",
   "execution_count": 4,
   "metadata": {},
   "outputs": [
    {
     "name": "stdout",
     "output_type": "stream",
     "text": [
      "--- The following training parameters were set:\n",
      "    number of epochs: 1\n",
      "    learning rate: 0.0003\n",
      "    learning warmup enabled? True\n",
      "    model weights will be saved to:               1_Pretraining/model_weights/model0_al0_ch1.pt                                   \n",
      "    dataset descriptors will be loaded from:      1_Pretraining/datasets_descriptors/moses_train.yaml                             \n",
      "  . note: wandb_project_name and wandb_runname were not provided, you can ignore this message if you don't plan to log runs to wandb\n",
      "--- The following generation parameters were set:\n",
      "    target number: 1000 unique canonical smiles that pass filters\n",
      "    batch size: 64 & temperature: 1.0\n",
      "    the following filters will be applied: ADMET+FGs\n",
      "    model weights will be loaded from:            1_Pretraining/model_weights/model0_al0_ch1.pt                                   \n",
      "    dataset descriptors will be loaded from:      1_Pretraining/datasets_descriptors/moses_train.yaml                             \n",
      "    generated completions will be saved to:       2_Generation/model0_al0_ch1_completions.csv                                     \n",
      "    unique canonic smiles will be saved to:       2_Generation/model0_al0_ch1_unique_smiles.csv                                   \n",
      "    generation metrics will be saved to:          2_Generation/model0_al0_ch1_metrics.txt                                         \n",
      "    filtered molecules will be saved to:          2_Generation/model0_al0_ch1_filtered_smiles.csv                                 \n",
      "    The following ADMET filters will be enforced:\n",
      "    |    MW in range [100, 600]\n",
      "    |    nHA in range [0, 12]\n",
      "    |    nHD in range [0, 7]\n",
      "    |    nRot in range [0, 11]\n",
      "    |    nRing in range [0, 6]\n",
      "    |    nHet in range [1, 15]\n",
      "    |    fChar in range [-4, 4]\n",
      "    |    TPSA in range [0, 140]\n",
      "    |    logP in range [-0.4, 6.5]\n",
      "    The following functional groups will be restricted:\n",
      "    |    fr_azide, fr_isocyan, fr_isothiocyan, fr_nitro, fr_nitro_arom,\n",
      "    |    fr_nitro_arom_nonortho, fr_nitroso, fr_phos_acid, fr_phos_ester,\n",
      "    |    fr_sulfonamd, fr_sulfone, fr_term_acetylene, fr_thiocyan,\n",
      "    |    fr_prisulfonamd, fr_C_S, fr_azo, fr_diazo, fr_epoxide, fr_ester,\n",
      "    |    fr_COO2, fr_Imine, fr_N_O, fr_SH, fr_aldehyde, fr_dihydropyridine,\n",
      "    |    fr_hdrzine, fr_hdrzone, fr_ketone, fr_thiophene, fr_phenol\n",
      "--- The following previously scored molecules were set:\n",
      "--- The following previously constructed Active Learning sets were set:\n",
      "--- The following sampling parameters were set:\n",
      "    number of clusters: 10\n",
      "    samples per cluster: 2\n",
      "    descriptors mode: mix\n",
      "    descriptors will be saved to:                      3_Sampling/generations_descriptors/model0_al0_ch1.pkl                           \n",
      "    PCA will be loaded from:                           3_Sampling/pca_weights/scaler_pca_combined_processed_freq1000_block133_120.pkl  \n",
      "    KMeans Objects will be saved to:                   3_Sampling/kmeans_objects/model0_al0_ch1_k10.pkl                                \n",
      "    cluster to molecules mapping will be saved to:     3_Sampling/clusterings/model0_al0_ch1_cluster_to_mols.pkl                       \n",
      "    sampled molecules will be saved to:                4_Scoring/sampled_mols/model0_al0_ch1_sampled20.csv                             \n",
      "--- The following scoring parameters were set:\n",
      "    Reminder that docking poses will be written to 4_Scoring/binding_poses/                                                        \n",
      "    protein will be loaded from                   4_Scoring/binding_targets/1ieb_processed.pdb                                    \n",
      "    and scored molecules will be saved to         4_Scoring/scored_dataframes/model0_al0_ch1.csv                                  \n",
      "    The following prolif interaction weights will be used:\n",
      "    |    Hydrophobic: 2.5, HBDonor: 3.5, HBAcceptor: 3.5, Anionic: 7.5, Cationic: 7.5,\n",
      "    |    CationPi: 2.5, PiCation: 2.5, VdWContact: 1.0, XBAcceptor: 3.0,\n",
      "    |    XBDonor: 3.0, FaceToFace: 3.0, EdgeToFace: 1.0, MetalDonor: 3.0,\n",
      "    |    MetalAcceptor: 3.0\n",
      "--- The following AL training set construction parameters were set:\n",
      "    the training set will be constructed to have 10000 molecules\n",
      "    of which 5000 will be selected from the top scoring molecules defined by the following parameters:\n",
      "        molecules with score above 11 will be selected\n",
      "    the remaining 5000 molecules will be selected from high-scoring clusters according to the following parameters:\n",
      "        the following probability mode will be used: softsub\n",
      "    the training set will be saved to             5_ActiveLearning/training_sets/model0_al0_ch1.csv                               \n"
     ]
    }
   ],
   "source": [
    "config.verbose = True\n",
    "config.set_training_parameters(mode=\"Pretraining\", epochs=1)\n",
    "config.set_generation_parameters(\n",
    "    target_criterion=\"force_number_filtered\",\n",
    "    force_filters=\"ADMET+FGs\",\n",
    "    target_number=1_000,\n",
    ")\n",
    "config.set_previous_arrays()\n",
    "config.verbose = True\n",
    "config.set_sampling_parameters(\n",
    "    n_clusters=10,\n",
    "    samples_per_cluster=2,\n",
    "    pca_fname=\"scaler_pca_combined_processed_freq1000_block133_120.pkl\",\n",
    ")\n",
    "config.set_scoring_parameters(protein_path=\"1ieb_processed.pdb\")\n",
    "config.set_active_learning_parameters(\n",
    "    selection_mode=\"threshold\", threshold=11, training_size=10_000\n",
    ")\n",
    "# model, trainer = Training.train_GPT(\n",
    "#     config=config,\n",
    "#     training_dataset=ds[0],\n",
    "# )\n",
    "# Generation.generate_smiles(config)\n",
    "# Generation.characterize_generated_molecules(config)"
   ]
  },
  {
   "cell_type": "code",
   "execution_count": 4,
   "metadata": {},
   "outputs": [],
   "source": [
    "# Sampling.calculate_descriptors(config)\n",
    "# mols = Sampling.project_into_pca_space(config)\n",
    "# Sampling.cluster_and_sample(mols=mols, config=config, n_iter=1)\n",
    "# ALConstruction.construct_al_training_set(config=config, do_sampling=True)"
   ]
  }
 ],
 "metadata": {
  "kernelspec": {
   "display_name": "Python 3",
   "language": "python",
   "name": "python3"
  },
  "language_info": {
   "codemirror_mode": {
    "name": "ipython",
    "version": 3
   },
   "file_extension": ".py",
   "mimetype": "text/x-python",
   "name": "python",
   "nbconvert_exporter": "python",
   "pygments_lexer": "ipython3",
   "version": "3.11.4"
  }
 },
 "nbformat": 4,
 "nbformat_minor": 2
}
